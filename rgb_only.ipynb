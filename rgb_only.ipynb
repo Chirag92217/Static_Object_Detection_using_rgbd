{
 "cells": [
  {
   "cell_type": "code",
   "execution_count": 1,
   "id": "23a50a0d",
   "metadata": {},
   "outputs": [
    {
     "name": "stderr",
     "output_type": "stream",
     "text": [
      "f:\\RGBD_Fusion\\.venv\\lib\\site-packages\\torchvision\\models\\_utils.py:208: UserWarning: The parameter 'pretrained' is deprecated since 0.13 and may be removed in the future, please use 'weights' instead.\n",
      "  warnings.warn(\n",
      "f:\\RGBD_Fusion\\.venv\\lib\\site-packages\\torchvision\\models\\_utils.py:223: UserWarning: Arguments other than a weight enum or `None` for 'weights' are deprecated since 0.13 and may be removed in the future. The current behavior is equivalent to passing `weights=FasterRCNN_ResNet50_FPN_Weights.COCO_V1`. You can also use `weights=FasterRCNN_ResNet50_FPN_Weights.DEFAULT` to get the most up-to-date weights.\n",
      "  warnings.warn(msg)\n",
      "Epoch 1 [train]: 100%|██████████| 132/132 [00:31<00:00,  4.25batch/s, train_loss=0.0869]\n",
      "[val]  : 100%|██████████| 33/33 [00:04<00:00,  7.53batch/s, val_loss=0.1307]\n"
     ]
    },
    {
     "name": "stdout",
     "output_type": "stream",
     "text": [
      "Epoch 01 — train_loss: 0.1901, val_loss: 0.0990\n",
      "  ↳ New best! Model saved.\n"
     ]
    },
    {
     "name": "stderr",
     "output_type": "stream",
     "text": [
      "Epoch 2 [train]: 100%|██████████| 132/132 [00:29<00:00,  4.45batch/s, train_loss=0.0698]\n",
      "[val]  : 100%|██████████| 33/33 [00:04<00:00,  7.62batch/s, val_loss=0.0682]\n"
     ]
    },
    {
     "name": "stdout",
     "output_type": "stream",
     "text": [
      "Epoch 02 — train_loss: 0.0725, val_loss: 0.0661\n",
      "  ↳ New best! Model saved.\n"
     ]
    },
    {
     "name": "stderr",
     "output_type": "stream",
     "text": [
      "Epoch 3 [train]: 100%|██████████| 132/132 [00:29<00:00,  4.48batch/s, train_loss=0.0456]\n",
      "[val]  : 100%|██████████| 33/33 [00:04<00:00,  7.63batch/s, val_loss=0.0431]\n"
     ]
    },
    {
     "name": "stdout",
     "output_type": "stream",
     "text": [
      "Epoch 03 — train_loss: 0.0546, val_loss: 0.0544\n",
      "  ↳ New best! Model saved.\n"
     ]
    },
    {
     "name": "stderr",
     "output_type": "stream",
     "text": [
      "Epoch 4 [train]: 100%|██████████| 132/132 [00:29<00:00,  4.45batch/s, train_loss=0.0153]\n",
      "[val]  : 100%|██████████| 33/33 [00:04<00:00,  7.77batch/s, val_loss=0.0403]\n"
     ]
    },
    {
     "name": "stdout",
     "output_type": "stream",
     "text": [
      "Epoch 04 — train_loss: 0.0396, val_loss: 0.0464\n",
      "  ↳ New best! Model saved.\n"
     ]
    },
    {
     "name": "stderr",
     "output_type": "stream",
     "text": [
      "Epoch 5 [train]: 100%|██████████| 132/132 [00:29<00:00,  4.45batch/s, train_loss=0.0398]\n",
      "[val]  : 100%|██████████| 33/33 [00:04<00:00,  7.56batch/s, val_loss=0.0412]\n"
     ]
    },
    {
     "name": "stdout",
     "output_type": "stream",
     "text": [
      "Epoch 05 — train_loss: 0.0372, val_loss: 0.0476\n",
      "  ↳ No improvement for 1/5 epochs.\n"
     ]
    },
    {
     "name": "stderr",
     "output_type": "stream",
     "text": [
      "Epoch 6 [train]: 100%|██████████| 132/132 [00:29<00:00,  4.41batch/s, train_loss=0.0307]\n",
      "[val]  : 100%|██████████| 33/33 [00:04<00:00,  7.58batch/s, val_loss=0.0338]\n"
     ]
    },
    {
     "name": "stdout",
     "output_type": "stream",
     "text": [
      "Epoch 06 — train_loss: 0.0336, val_loss: 0.0459\n",
      "  ↳ New best! Model saved.\n"
     ]
    },
    {
     "name": "stderr",
     "output_type": "stream",
     "text": [
      "Epoch 7 [train]: 100%|██████████| 132/132 [00:29<00:00,  4.40batch/s, train_loss=0.0230]\n",
      "[val]  : 100%|██████████| 33/33 [00:04<00:00,  7.54batch/s, val_loss=0.0332]\n"
     ]
    },
    {
     "name": "stdout",
     "output_type": "stream",
     "text": [
      "Epoch 07 — train_loss: 0.0320, val_loss: 0.0427\n",
      "  ↳ New best! Model saved.\n"
     ]
    },
    {
     "name": "stderr",
     "output_type": "stream",
     "text": [
      "Epoch 8 [train]: 100%|██████████| 132/132 [00:29<00:00,  4.41batch/s, train_loss=0.0204]\n",
      "[val]  : 100%|██████████| 33/33 [00:04<00:00,  7.70batch/s, val_loss=0.0303]\n"
     ]
    },
    {
     "name": "stdout",
     "output_type": "stream",
     "text": [
      "Epoch 08 — train_loss: 0.0305, val_loss: 0.0387\n",
      "  ↳ New best! Model saved.\n"
     ]
    },
    {
     "name": "stderr",
     "output_type": "stream",
     "text": [
      "Epoch 9 [train]: 100%|██████████| 132/132 [00:29<00:00,  4.40batch/s, train_loss=0.0260]\n",
      "[val]  : 100%|██████████| 33/33 [00:04<00:00,  7.42batch/s, val_loss=0.0483]\n"
     ]
    },
    {
     "name": "stdout",
     "output_type": "stream",
     "text": [
      "Epoch 09 — train_loss: 0.0254, val_loss: 0.0414\n",
      "  ↳ No improvement for 1/5 epochs.\n"
     ]
    },
    {
     "name": "stderr",
     "output_type": "stream",
     "text": [
      "Epoch 10 [train]: 100%|██████████| 132/132 [00:30<00:00,  4.36batch/s, train_loss=0.0177]\n",
      "[val]  : 100%|██████████| 33/33 [00:04<00:00,  7.53batch/s, val_loss=0.0383]\n"
     ]
    },
    {
     "name": "stdout",
     "output_type": "stream",
     "text": [
      "Epoch 10 — train_loss: 0.0261, val_loss: 0.0446\n",
      "  ↳ No improvement for 2/5 epochs.\n"
     ]
    },
    {
     "name": "stderr",
     "output_type": "stream",
     "text": [
      "Epoch 11 [train]: 100%|██████████| 132/132 [00:31<00:00,  4.19batch/s, train_loss=0.0236]\n",
      "[val]  : 100%|██████████| 33/33 [00:05<00:00,  5.88batch/s, val_loss=0.0254]\n"
     ]
    },
    {
     "name": "stdout",
     "output_type": "stream",
     "text": [
      "Epoch 11 — train_loss: 0.0244, val_loss: 0.0349\n",
      "  ↳ New best! Model saved.\n"
     ]
    },
    {
     "name": "stderr",
     "output_type": "stream",
     "text": [
      "Epoch 12 [train]: 100%|██████████| 132/132 [00:35<00:00,  3.68batch/s, train_loss=0.0291]\n",
      "[val]  : 100%|██████████| 33/33 [00:04<00:00,  7.30batch/s, val_loss=0.0226]\n"
     ]
    },
    {
     "name": "stdout",
     "output_type": "stream",
     "text": [
      "Epoch 12 — train_loss: 0.0204, val_loss: 0.0337\n",
      "  ↳ New best! Model saved.\n"
     ]
    },
    {
     "name": "stderr",
     "output_type": "stream",
     "text": [
      "Epoch 13 [train]: 100%|██████████| 132/132 [00:29<00:00,  4.42batch/s, train_loss=0.0424]\n",
      "[val]  : 100%|██████████| 33/33 [00:04<00:00,  7.62batch/s, val_loss=0.0262]\n"
     ]
    },
    {
     "name": "stdout",
     "output_type": "stream",
     "text": [
      "Epoch 13 — train_loss: 0.0218, val_loss: 0.0375\n",
      "  ↳ No improvement for 1/5 epochs.\n"
     ]
    },
    {
     "name": "stderr",
     "output_type": "stream",
     "text": [
      "Epoch 14 [train]: 100%|██████████| 132/132 [00:29<00:00,  4.40batch/s, train_loss=0.0252]\n",
      "[val]  : 100%|██████████| 33/33 [00:04<00:00,  7.53batch/s, val_loss=0.0472]\n"
     ]
    },
    {
     "name": "stdout",
     "output_type": "stream",
     "text": [
      "Epoch 14 — train_loss: 0.0290, val_loss: 0.0497\n",
      "  ↳ No improvement for 2/5 epochs.\n"
     ]
    },
    {
     "name": "stderr",
     "output_type": "stream",
     "text": [
      "Epoch 15 [train]: 100%|██████████| 132/132 [00:29<00:00,  4.42batch/s, train_loss=0.0251]\n",
      "[val]  : 100%|██████████| 33/33 [00:04<00:00,  7.65batch/s, val_loss=0.0332]\n"
     ]
    },
    {
     "name": "stdout",
     "output_type": "stream",
     "text": [
      "Epoch 15 — train_loss: 0.0327, val_loss: 0.0421\n",
      "  ↳ No improvement for 3/5 epochs.\n"
     ]
    },
    {
     "name": "stderr",
     "output_type": "stream",
     "text": [
      "Epoch 16 [train]: 100%|██████████| 132/132 [00:29<00:00,  4.44batch/s, train_loss=0.0236]\n",
      "[val]  : 100%|██████████| 33/33 [00:04<00:00,  7.56batch/s, val_loss=0.0267]\n"
     ]
    },
    {
     "name": "stdout",
     "output_type": "stream",
     "text": [
      "Epoch 16 — train_loss: 0.0224, val_loss: 0.0370\n",
      "  ↳ No improvement for 4/5 epochs.\n"
     ]
    },
    {
     "name": "stderr",
     "output_type": "stream",
     "text": [
      "Epoch 17 [train]: 100%|██████████| 132/132 [00:31<00:00,  4.13batch/s, train_loss=0.0136]\n",
      "[val]  : 100%|██████████| 33/33 [00:05<00:00,  6.00batch/s, val_loss=0.0248]"
     ]
    },
    {
     "name": "stdout",
     "output_type": "stream",
     "text": [
      "Epoch 17 — train_loss: 0.0194, val_loss: 0.0359\n",
      "  ↳ No improvement for 5/5 epochs.\n",
      "Early stopping triggered. Ending training.\n",
      "Training complete. Best val_loss: 0.03372754052168492\n"
     ]
    },
    {
     "name": "stderr",
     "output_type": "stream",
     "text": [
      "\n"
     ]
    }
   ],
   "source": [
    "# train_rgb_only_fasterrcnn.py\n",
    "\n",
    "import torch\n",
    "from torch.utils.data import Dataset, DataLoader, random_split\n",
    "from torch.optim import AdamW\n",
    "import torchvision\n",
    "from torchvision.models.detection.faster_rcnn import FastRCNNPredictor\n",
    "import cv2\n",
    "import numpy as np\n",
    "from pathlib import Path\n",
    "from tqdm import tqdm\n",
    "\n",
    "# ─── Data loading utilities ────────────────────────────────────────────────────\n",
    "\n",
    "def load_rgb(path: Path) -> np.ndarray:\n",
    "    img = cv2.imread(str(path), cv2.IMREAD_COLOR)\n",
    "    assert img is not None, f\"Failed to load {path}\"\n",
    "    img = cv2.cvtColor(img, cv2.COLOR_BGR2RGB)\n",
    "    return img.astype(np.float32) / 255.0  # H×W×3\n",
    "\n",
    "def parse_yolo_labels(path: Path, img_shape: tuple) -> torch.Tensor:\n",
    "    H, W = img_shape\n",
    "    boxes = []\n",
    "    if path.exists():\n",
    "        with open(path, 'r') as f:\n",
    "            for line in f:\n",
    "                cls, xc, yc, w, h = map(float, line.split())\n",
    "                x0 = (xc - w/2) * W;  y0 = (yc - h/2) * H\n",
    "                x1 = (xc + w/2) * W;  y1 = (yc + h/2) * H\n",
    "                boxes.append([x0, y0, x1, y1, int(cls)])\n",
    "    if boxes:\n",
    "        return torch.tensor(boxes, dtype=torch.float32)\n",
    "    return torch.zeros((0,5), dtype=torch.float32)\n",
    "\n",
    "def collate_fn(batch):\n",
    "    return tuple(zip(*batch))\n",
    "\n",
    "\n",
    "# ─── RGB-Only Dataset ──────────────────────────────────────────────────────────\n",
    "\n",
    "class RGBDataset(Dataset):\n",
    "    def __init__(self, root: str):\n",
    "        root = Path(root)\n",
    "        self.rgb_files = sorted((root/\"rgb\").glob(\"*.jpg\"))\n",
    "        assert self.rgb_files, f\"No RGB images in {root/'rgb'}\"\n",
    "\n",
    "    def __len__(self):\n",
    "        return len(self.rgb_files)\n",
    "\n",
    "    def __getitem__(self, idx):\n",
    "        rgb_path = self.rgb_files[idx]\n",
    "        stem     = rgb_path.stem\n",
    "        label_path = rgb_path.parent.parent/\"labels\"/f\"{stem}.txt\"\n",
    "\n",
    "        rgb = load_rgb(rgb_path)                # H×W×3\n",
    "        boxes = parse_yolo_labels(label_path, rgb.shape[:2])  # N×5\n",
    "\n",
    "        # to tensor C×H×W\n",
    "        img_t = torch.from_numpy(rgb.transpose(2,0,1))  # 3×H×W\n",
    "\n",
    "        # shift labels +1 so 0 is background\n",
    "        target = {\n",
    "            \"boxes\":  boxes[:, :4],\n",
    "            \"labels\": boxes[:, 4].long() + 1\n",
    "        }\n",
    "        return img_t, target\n",
    "\n",
    "\n",
    "# ─── Model Factory ─────────────────────────────────────────────────────────────\n",
    "\n",
    "def get_fasterrcnn_rgb(num_classes: int):\n",
    "    # load a standard 3-channel pretrained FPN model\n",
    "    model = torchvision.models.detection.fasterrcnn_resnet50_fpn(pretrained=True)\n",
    "    # replace the box predictor\n",
    "    in_feats = model.roi_heads.box_predictor.cls_score.in_features\n",
    "    model.roi_heads.box_predictor = FastRCNNPredictor(in_feats, num_classes)\n",
    "    return model\n",
    "\n",
    "\n",
    "# ─── Training & Early Stopping ─────────────────────────────────────────────────\n",
    "\n",
    "def train_one_epoch(model, loader, optimizer, device, epoch):\n",
    "    model.train()\n",
    "    pbar = tqdm(loader, desc=f\"Epoch {epoch} [train]\", unit=\"batch\")\n",
    "    total_loss = 0.0\n",
    "    for imgs, targets in pbar:\n",
    "        imgs = [img.to(device) for img in imgs]\n",
    "        tgts = [{k: v.to(device) for k,v in t.items()} for t in targets]\n",
    "\n",
    "        loss_dict = model(imgs, tgts)\n",
    "        loss = sum(loss for loss in loss_dict.values())\n",
    "\n",
    "        optimizer.zero_grad()\n",
    "        loss.backward()\n",
    "        optimizer.step()\n",
    "\n",
    "        total_loss += loss.item()\n",
    "        pbar.set_postfix(train_loss=f\"{loss.item():.4f}\")\n",
    "    pbar.close()\n",
    "    return total_loss / len(loader)\n",
    "\n",
    "@torch.no_grad()\n",
    "def eval_loss(model, loader, device):\n",
    "    model.train()  # to get loss keys\n",
    "    pbar = tqdm(loader, desc=\"[val]  \", unit=\"batch\")\n",
    "    total_loss = 0.0\n",
    "    for imgs, targets in pbar:\n",
    "        imgs = [img.to(device) for img in imgs]\n",
    "        tgts = [{k: v.to(device) for k,v in t.items()} for t in targets]\n",
    "\n",
    "        loss_dict = model(imgs, tgts)\n",
    "        loss = sum(loss for loss in loss_dict.values())\n",
    "        total_loss += loss.item()\n",
    "        pbar.set_postfix(val_loss=f\"{loss.item():.4f}\")\n",
    "    pbar.close()\n",
    "    return total_loss / len(loader)\n",
    "\n",
    "\n",
    "if __name__ == \"__main__\":\n",
    "    # ── Hyperparameters ─────────────────────────────────────────────────────────\n",
    "    ROOT_DIR    = \"Processed_data\"\n",
    "    NUM_CLASSES = 6 + 1   # 6 object classes + background\n",
    "    BATCH_SIZE  = 8\n",
    "    LR          = 1e-4\n",
    "    WD          = 1e-4\n",
    "    MAX_EPOCHS  = 20\n",
    "    PATIENCE    = 5\n",
    "    VAL_SPLIT   = 0.2\n",
    "    SEED        = 42\n",
    "    DEVICE      = torch.device(\"cuda\" if torch.cuda.is_available() else \"cpu\")\n",
    "    # ──────────────────────────────────────────────────────────────────────────────\n",
    "\n",
    "    # dataset & split\n",
    "    ds = RGBDataset(ROOT_DIR)\n",
    "    n_val = int(len(ds) * VAL_SPLIT)\n",
    "    train_ds, val_ds = random_split(\n",
    "        ds, [len(ds)-n_val, n_val],\n",
    "        generator=torch.Generator().manual_seed(SEED)\n",
    "    )\n",
    "\n",
    "    train_loader = DataLoader(\n",
    "        train_ds, batch_size=BATCH_SIZE, shuffle=True,\n",
    "        num_workers=0, collate_fn=collate_fn\n",
    "    )\n",
    "    val_loader = DataLoader(\n",
    "        val_ds, batch_size=BATCH_SIZE, shuffle=False,\n",
    "        num_workers=0, collate_fn=collate_fn\n",
    "    )\n",
    "\n",
    "    # model & optimizer\n",
    "    model = get_fasterrcnn_rgb(NUM_CLASSES).to(DEVICE)\n",
    "    optimizer = AdamW(model.parameters(), lr=LR, weight_decay=WD)\n",
    "\n",
    "    best_val = float(\"inf\")\n",
    "    epochs_no_improve = 0\n",
    "\n",
    "    for epoch in range(1, MAX_EPOCHS+1):\n",
    "        tr_loss = train_one_epoch(model, train_loader, optimizer, DEVICE, epoch)\n",
    "        vl_loss = eval_loss(model, val_loader, DEVICE)\n",
    "\n",
    "        print(f\"Epoch {epoch:02d} — train_loss: {tr_loss:.4f}, val_loss: {vl_loss:.4f}\")\n",
    "\n",
    "        if vl_loss < best_val:\n",
    "            best_val = vl_loss\n",
    "            epochs_no_improve = 0\n",
    "            torch.save(model.state_dict(), \"rgb_only_best.pth\")\n",
    "            print(\"  ↳ New best! Model saved.\")\n",
    "        else:\n",
    "            epochs_no_improve += 1\n",
    "            print(f\"  ↳ No improvement for {epochs_no_improve}/{PATIENCE} epochs.\")\n",
    "            if epochs_no_improve >= PATIENCE:\n",
    "                print(\"Early stopping triggered. Ending training.\")\n",
    "                break\n",
    "\n",
    "    print(\"Training complete. Best val_loss:\", best_val)\n"
   ]
  },
  {
   "cell_type": "code",
   "execution_count": 2,
   "id": "0d427c93",
   "metadata": {},
   "outputs": [
    {
     "name": "stderr",
     "output_type": "stream",
     "text": [
      "f:\\RGBD_Fusion\\.venv\\lib\\site-packages\\torchvision\\models\\_utils.py:208: UserWarning: The parameter 'pretrained' is deprecated since 0.13 and may be removed in the future, please use 'weights' instead.\n",
      "  warnings.warn(\n",
      "f:\\RGBD_Fusion\\.venv\\lib\\site-packages\\torchvision\\models\\_utils.py:223: UserWarning: Arguments other than a weight enum or `None` for 'weights' are deprecated since 0.13 and may be removed in the future. The current behavior is equivalent to passing `weights=FasterRCNN_ResNet50_FPN_Weights.COCO_V1`. You can also use `weights=FasterRCNN_ResNet50_FPN_Weights.DEFAULT` to get the most up-to-date weights.\n",
      "  warnings.warn(msg)\n",
      "Evaluating: 100%|██████████| 66/66 [00:03<00:00, 17.28it/s]\n"
     ]
    },
    {
     "name": "stdout",
     "output_type": "stream",
     "text": [
      "\n",
      "RGB-only detection accuracy (IoU≥0.5): 97.27%\n",
      "\n"
     ]
    },
    {
     "data": {
      "image/png": "[encoded data removed]",
      "text/plain": [
       "<Figure size 700x600 with 2 Axes>"
      ]
     },
     "metadata": {},
     "output_type": "display_data"
    }
   ],
   "source": [
    "# evaluate_rgb_only.py\n",
    "\n",
    "import torch\n",
    "import numpy as np\n",
    "from sklearn.metrics import accuracy_score, confusion_matrix\n",
    "import matplotlib.pyplot as plt\n",
    "import seaborn as sns\n",
    "from tqdm import tqdm\n",
    "from torch.utils.data import DataLoader, random_split\n",
    "\n",
    "# from train_rgb_only_fasterrcnn import (\n",
    "#     get_fasterrcnn_rgb,\n",
    "#     RGBDataset,\n",
    "#     collate_fn\n",
    "# )\n",
    "\n",
    "def compute_iou(a, b):\n",
    "    xA = max(a[0], b[0]); yA = max(a[1], b[1])\n",
    "    xB = min(a[2], b[2]); yB = min(a[3], b[3])\n",
    "    inter = max(0, xB - xA) * max(0, yB - yA)\n",
    "    areaA = (a[2]-a[0])*(a[3]-a[1])\n",
    "    areaB = (b[2]-b[0])*(b[3]-b[1])\n",
    "    uni = areaA + areaB - inter\n",
    "    return inter/uni if uni>0 else 0.0\n",
    "\n",
    "def evaluate(model, loader, device,\n",
    "             iou_thresh=0.5, score_thresh=0.5, label_map=None):\n",
    "    gt_list, pred_list = [], []\n",
    "    model.eval()\n",
    "    with torch.no_grad():\n",
    "        for imgs, targets in tqdm(loader, desc=\"Evaluating\"):\n",
    "            imgs = [img.to(device) for img in imgs]\n",
    "            outputs = model(imgs)\n",
    "            for out, tgt in zip(outputs, targets):\n",
    "                gt_boxes  = tgt[\"boxes\"].cpu().numpy()\n",
    "                gt_labels = tgt[\"labels\"].cpu().numpy()\n",
    "                pb = out[\"boxes\"].cpu().numpy()\n",
    "                pl = out[\"labels\"].cpu().numpy()\n",
    "                ps = out[\"scores\"].cpu().numpy()\n",
    "                keep = ps >= score_thresh\n",
    "                pb, pl = pb[keep], pl[keep]\n",
    "                if len(gt_boxes)==0 or len(pb)==0:\n",
    "                    continue\n",
    "                for gbox, glab in zip(gt_boxes, gt_labels):\n",
    "                    ious = np.array([compute_iou(gbox, p) for p in pb])\n",
    "                    j = ious.argmax()\n",
    "                    if ious[j] >= iou_thresh:\n",
    "                        gt_list.append(int(glab))\n",
    "                        pred_list.append(int(pl[j]))\n",
    "\n",
    "    # overall accuracy\n",
    "    acc = accuracy_score(gt_list, pred_list)\n",
    "    print(f\"\\nRGB-only detection accuracy (IoU≥{iou_thresh}): {acc*100:.2f}%\\n\")\n",
    "\n",
    "    # confusion matrix\n",
    "    classes = sorted(label_map.keys())\n",
    "    names   = [label_map[c] for c in classes]\n",
    "    cm = confusion_matrix(gt_list, pred_list, labels=classes)\n",
    "\n",
    "    plt.figure(figsize=(7,6))\n",
    "    sns.heatmap(cm, annot=True, fmt=\"d\", cmap=\"Blues\",\n",
    "                xticklabels=names, yticklabels=names)\n",
    "    plt.xlabel(\"Predicted\")\n",
    "    plt.ylabel(\"Ground Truth\")\n",
    "    plt.title(\"RGB-only Detection Confusion Matrix\")\n",
    "    plt.tight_layout()\n",
    "    plt.show()\n",
    "\n",
    "if __name__ == \"__main__\":\n",
    "    DEVICE    = torch.device(\"cuda\" if torch.cuda.is_available() else \"cpu\")\n",
    "    ROOT_DIR  = \"Processed_data\"\n",
    "    WEIGHTS   = \"rgb_only_best.pth\"\n",
    "    LABEL_MAP = {\n",
    "        1: \"bottle\",\n",
    "        2: \"glass\",\n",
    "        3: \"marker\",\n",
    "        4: \"mobile\",\n",
    "        5: \"mouse\",\n",
    "        6: \"stapler\"\n",
    "    }\n",
    "\n",
    "    # build & load\n",
    "    model = get_fasterrcnn_rgb(num_classes=len(LABEL_MAP)+1)\n",
    "    state = torch.load(WEIGHTS, map_location=DEVICE)\n",
    "    model.load_state_dict(state)\n",
    "    model.to(DEVICE)\n",
    "\n",
    "    # val loader\n",
    "    ds    = RGBDataset(ROOT_DIR)\n",
    "    n_val = int(len(ds) * 0.2)\n",
    "    _, val_ds = random_split(\n",
    "        ds, [len(ds)-n_val, n_val],\n",
    "        generator=torch.Generator().manual_seed(42)\n",
    "    )\n",
    "    val_loader = DataLoader(\n",
    "        val_ds, batch_size=4, shuffle=False,\n",
    "        num_workers=0, collate_fn=collate_fn\n",
    "    )\n",
    "\n",
    "    evaluate(\n",
    "        model, val_loader, DEVICE,\n",
    "        iou_thresh=0.5, score_thresh=0.5,\n",
    "        label_map=LABEL_MAP\n",
    "    )\n"
   ]
  },
  {
   "cell_type": "code",
   "execution_count": 3,
   "id": "94154a44",
   "metadata": {},
   "outputs": [
    {
     "name": "stderr",
     "output_type": "stream",
     "text": [
      "f:\\RGBD_Fusion\\.venv\\lib\\site-packages\\torchvision\\models\\_utils.py:208: UserWarning: The parameter 'pretrained' is deprecated since 0.13 and may be removed in the future, please use 'weights' instead.\n",
      "  warnings.warn(\n",
      "f:\\RGBD_Fusion\\.venv\\lib\\site-packages\\torchvision\\models\\_utils.py:223: UserWarning: Arguments other than a weight enum or `None` for 'weights' are deprecated since 0.13 and may be removed in the future. The current behavior is equivalent to passing `weights=FasterRCNN_ResNet50_FPN_Weights.COCO_V1`. You can also use `weights=FasterRCNN_ResNet50_FPN_Weights.DEFAULT` to get the most up-to-date weights.\n",
      "  warnings.warn(msg)\n"
     ]
    }
   ],
   "source": [
    "import torch\n",
    "import cv2\n",
    "import numpy as np\n",
    "from pathlib import Path\n",
    "# from train_rgb_only_fasterrcnn import get_fasterrcnn_rgb\n",
    "\n",
    "# ─── CONFIG ────────────────────────────────────────────────────────────────────\n",
    "IMAGE_PATH = \"Processed_data/rgb/20250718_122755_172682.jpg\"\n",
    "WEIGHTS    = \"rgb_only_best.pth\"\n",
    "SCORE_THR  = 0.5\n",
    "LABEL_MAP  = {\n",
    "    1: \"bottle\",\n",
    "    2: \"glass\",\n",
    "    3: \"marker\",\n",
    "    4: \"mobile\",\n",
    "    5: \"mouse\",\n",
    "    6: \"stapler\"\n",
    "}\n",
    "DEVICE     = torch.device(\"cuda\" if torch.cuda.is_available() else \"cpu\")\n",
    "# ───────────────────────────────────────────────────────────────────────────────\n",
    "\n",
    "# Build model & load weights\n",
    "model = get_fasterrcnn_rgb(num_classes=len(LABEL_MAP) + 1)\n",
    "state = torch.load(WEIGHTS, map_location=DEVICE)\n",
    "model.load_state_dict(state)\n",
    "model.to(DEVICE).eval()\n",
    "\n",
    "# Load image\n",
    "img_bgr = cv2.imread(IMAGE_PATH)\n",
    "assert img_bgr is not None, f\"Failed to load {IMAGE_PATH}\"\n",
    "img_rgb = cv2.cvtColor(img_bgr, cv2.COLOR_BGR2RGB).astype(np.float32) / 255.0\n",
    "\n",
    "# To tensor (C×H×W)\n",
    "inp = torch.from_numpy(img_rgb.transpose(2,0,1)).to(DEVICE)\n",
    "\n",
    "# Inference\n",
    "with torch.no_grad():\n",
    "    output = model([inp])[0]\n",
    "\n",
    "# Draw predictions\n",
    "for box, score, cid in zip(output[\"boxes\"], output[\"scores\"], output[\"labels\"]):\n",
    "    if score < SCORE_THR or cid == 0:\n",
    "        continue\n",
    "    x0,y0,x1,y1 = map(int, box.tolist())\n",
    "    name = LABEL_MAP[int(cid)]\n",
    "    cv2.rectangle(img_bgr, (x0,y0), (x1,y1), (0,255,0), 2)\n",
    "    cv2.putText(img_bgr, f\"{name}:{score:.2f}\", (x0,y0-6),\n",
    "                cv2.FONT_HERSHEY_SIMPLEX, 0.5, (0,255,0), 1)\n",
    "\n",
    "# Show\n",
    "cv2.imshow(\"RGB-Only Inference\", img_bgr)\n",
    "cv2.waitKey(0)\n",
    "cv2.destroyAllWindows()\n"
   ]
  },
  {
   "cell_type": "code",
   "execution_count": 4,
   "id": "d0a1aec9",
   "metadata": {},
   "outputs": [],
   "source": [
    "import torch\n",
    "import cv2\n",
    "import numpy as np\n",
    "# from train_rgb_only_fasterrcnn import get_fasterrcnn_rgb\n",
    "\n",
    "# ─── CONFIG ────────────────────────────────────────────────────────────────────\n",
    "WEIGHTS   = \"rgb_only_best.pth\"\n",
    "SCORE_THR = 0.5\n",
    "LABEL_MAP = {\n",
    "    1: \"bottle\",\n",
    "    2: \"glass\",\n",
    "    3: \"marker\",\n",
    "    4: \"mobile\",\n",
    "    5: \"mouse\",\n",
    "    6: \"stapler\"\n",
    "}\n",
    "DEVICE    = torch.device(\"cuda\" if torch.cuda.is_available() else \"cpu\")\n",
    "# ───────────────────────────────────────────────────────────────────────────────\n",
    "\n",
    "# Build model & load weights\n",
    "model = get_fasterrcnn_rgb(num_classes=len(LABEL_MAP) + 1)\n",
    "state = torch.load(WEIGHTS, map_location=DEVICE)\n",
    "model.load_state_dict(state)\n",
    "model.to(DEVICE).eval()\n",
    "\n",
    "# Open first webcam\n",
    "cap = cv2.VideoCapture(0)\n",
    "assert cap.isOpened(), \"Cannot open webcam\"\n",
    "\n",
    "try:\n",
    "    while True:\n",
    "        ret, frame = cap.read()\n",
    "        if not ret:\n",
    "            break\n",
    "\n",
    "        # BGR→RGB, normalize\n",
    "        img_rgb = cv2.cvtColor(frame, cv2.COLOR_BGR2RGB).astype(np.float32)/255.0\n",
    "        inp     = torch.from_numpy(img_rgb.transpose(2,0,1)).to(DEVICE)\n",
    "\n",
    "        # Inference\n",
    "        with torch.no_grad():\n",
    "            out = model([inp])[0]\n",
    "\n",
    "        # Draw\n",
    "        for box, score, cid in zip(out[\"boxes\"], out[\"scores\"], out[\"labels\"]):\n",
    "            if score < SCORE_THR or cid == 0:\n",
    "                continue\n",
    "            x0,y0,x1,y1 = map(int, box.tolist())\n",
    "            name = LABEL_MAP[int(cid)]\n",
    "            cv2.rectangle(frame, (x0,y0), (x1,y1), (0,255,0), 2)\n",
    "            cv2.putText(frame, f\"{name}:{score:.2f}\", (x0,y0-6),\n",
    "                        cv2.FONT_HERSHEY_SIMPLEX, 0.5, (0,255,0), 1)\n",
    "\n",
    "        cv2.imshow(\"Live RGB-Only Detection\", frame)\n",
    "        if cv2.waitKey(1) & 0xFF == ord('q'):\n",
    "            break\n",
    "\n",
    "finally:\n",
    "    cap.release()\n",
    "    cv2.destroyAllWindows()\n"
   ]
  },
  {
   "cell_type": "code",
   "execution_count": null,
   "id": "e81de85b",
   "metadata": {},
   "outputs": [],
   "source": []
  }
 ],
 "metadata": {
  "kernelspec": {
   "display_name": ".venv",
   "language": "python",
   "name": "python3"
  },
  "language_info": {
   "codemirror_mode": {
    "name": "ipython",
    "version": 3
   },
   "file_extension": ".py",
   "mimetype": "text/x-python",
   "name": "python",
   "nbconvert_exporter": "python",
   "pygments_lexer": "ipython3",
   "version": "3.10.10"
  }
 },
 "nbformat": 4,
 "nbformat_minor": 5
}
