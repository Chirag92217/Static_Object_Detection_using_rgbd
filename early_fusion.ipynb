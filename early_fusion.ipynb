{
 "cells": [
  {
   "cell_type": "code",
   "execution_count": 2,
   "id": "5312c9a7",
   "metadata": {},
   "outputs": [
    {
     "name": "stderr",
     "output_type": "stream",
     "text": [
      "Epoch 1 [train]: 100%|██████████| 132/132 [00:39<00:00,  3.31batch/s, train_loss=0.0866]\n",
      "Epoch 1 [eval] : 100%|██████████| 33/33 [00:06<00:00,  5.24batch/s, val_loss=0.0817]\n"
     ]
    },
    {
     "name": "stdout",
     "output_type": "stream",
     "text": [
      "Epoch 01 — train_loss: 0.1931, val_loss: 0.0865, accuracy: 90.1%\n",
      "  ↳ Validation loss improved; model saved.\n"
     ]
    },
    {
     "name": "stderr",
     "output_type": "stream",
     "text": [
      "Epoch 2 [train]: 100%|██████████| 132/132 [00:36<00:00,  3.58batch/s, train_loss=0.0500]\n",
      "Epoch 2 [eval] : 100%|██████████| 33/33 [00:05<00:00,  6.14batch/s, val_loss=0.0583]\n"
     ]
    },
    {
     "name": "stdout",
     "output_type": "stream",
     "text": [
      "Epoch 02 — train_loss: 0.0699, val_loss: 0.0672, accuracy: 92.7%\n",
      "  ↳ Validation loss improved; model saved.\n"
     ]
    },
    {
     "name": "stderr",
     "output_type": "stream",
     "text": [
      "Epoch 3 [train]: 100%|██████████| 132/132 [00:37<00:00,  3.56batch/s, train_loss=0.0803]\n",
      "Epoch 3 [eval] : 100%|██████████| 33/33 [00:05<00:00,  6.06batch/s, val_loss=0.0514]\n"
     ]
    },
    {
     "name": "stdout",
     "output_type": "stream",
     "text": [
      "Epoch 03 — train_loss: 0.0541, val_loss: 0.0551, accuracy: 92.4%\n",
      "  ↳ Validation loss improved; model saved.\n"
     ]
    },
    {
     "name": "stderr",
     "output_type": "stream",
     "text": [
      "Epoch 4 [train]: 100%|██████████| 132/132 [00:37<00:00,  3.57batch/s, train_loss=0.0205]\n",
      "Epoch 4 [eval] : 100%|██████████| 33/33 [00:05<00:00,  6.11batch/s, val_loss=0.0394]\n"
     ]
    },
    {
     "name": "stdout",
     "output_type": "stream",
     "text": [
      "Epoch 04 — train_loss: 0.0428, val_loss: 0.0511, accuracy: 92.0%\n",
      "  ↳ Validation loss improved; model saved.\n"
     ]
    },
    {
     "name": "stderr",
     "output_type": "stream",
     "text": [
      "Epoch 5 [train]: 100%|██████████| 132/132 [00:37<00:00,  3.56batch/s, train_loss=0.0261]\n",
      "Epoch 5 [eval] : 100%|██████████| 33/33 [00:05<00:00,  5.96batch/s, val_loss=0.0389]\n"
     ]
    },
    {
     "name": "stdout",
     "output_type": "stream",
     "text": [
      "Epoch 05 — train_loss: 0.0398, val_loss: 0.0453, accuracy: 91.6%\n",
      "  ↳ Validation loss improved; model saved.\n"
     ]
    },
    {
     "name": "stderr",
     "output_type": "stream",
     "text": [
      "Epoch 6 [train]: 100%|██████████| 132/132 [00:43<00:00,  3.04batch/s, train_loss=0.0590]\n",
      "Epoch 6 [eval] : 100%|██████████| 33/33 [00:07<00:00,  4.59batch/s, val_loss=0.0376]\n"
     ]
    },
    {
     "name": "stdout",
     "output_type": "stream",
     "text": [
      "Epoch 06 — train_loss: 0.0353, val_loss: 0.0436, accuracy: 91.2%\n",
      "  ↳ Validation loss improved; model saved.\n"
     ]
    },
    {
     "name": "stderr",
     "output_type": "stream",
     "text": [
      "Epoch 7 [train]: 100%|██████████| 132/132 [00:43<00:00,  3.00batch/s, train_loss=0.0587]\n",
      "Epoch 7 [eval] : 100%|██████████| 33/33 [00:07<00:00,  4.61batch/s, val_loss=0.0384]\n"
     ]
    },
    {
     "name": "stdout",
     "output_type": "stream",
     "text": [
      "Epoch 07 — train_loss: 0.0325, val_loss: 0.0468, accuracy: 91.2%\n",
      "  ↳ No improvement for 1/5 epochs.\n"
     ]
    },
    {
     "name": "stderr",
     "output_type": "stream",
     "text": [
      "Epoch 8 [train]: 100%|██████████| 132/132 [00:44<00:00,  2.98batch/s, train_loss=0.0183]\n",
      "Epoch 8 [eval] : 100%|██████████| 33/33 [00:07<00:00,  4.55batch/s, val_loss=0.0367]\n"
     ]
    },
    {
     "name": "stdout",
     "output_type": "stream",
     "text": [
      "Epoch 08 — train_loss: 0.0295, val_loss: 0.0412, accuracy: 91.2%\n",
      "  ↳ Validation loss improved; model saved.\n"
     ]
    },
    {
     "name": "stderr",
     "output_type": "stream",
     "text": [
      "Epoch 9 [train]: 100%|██████████| 132/132 [00:41<00:00,  3.21batch/s, train_loss=0.0296]\n",
      "Epoch 9 [eval] : 100%|██████████| 33/33 [00:05<00:00,  6.00batch/s, val_loss=0.0389]\n"
     ]
    },
    {
     "name": "stdout",
     "output_type": "stream",
     "text": [
      "Epoch 09 — train_loss: 0.0283, val_loss: 0.0412, accuracy: 91.2%\n",
      "  ↳ Validation loss improved; model saved.\n"
     ]
    },
    {
     "name": "stderr",
     "output_type": "stream",
     "text": [
      "Epoch 10 [train]: 100%|██████████| 132/132 [00:44<00:00,  2.99batch/s, train_loss=0.0322]\n",
      "Epoch 10 [eval] : 100%|██████████| 33/33 [00:07<00:00,  4.56batch/s, val_loss=0.0597]\n"
     ]
    },
    {
     "name": "stdout",
     "output_type": "stream",
     "text": [
      "Epoch 10 — train_loss: 0.0257, val_loss: 0.0418, accuracy: 91.6%\n",
      "  ↳ No improvement for 1/5 epochs.\n"
     ]
    },
    {
     "name": "stderr",
     "output_type": "stream",
     "text": [
      "Epoch 11 [train]: 100%|██████████| 132/132 [00:44<00:00,  2.99batch/s, train_loss=0.0194]\n",
      "Epoch 11 [eval] : 100%|██████████| 33/33 [00:05<00:00,  5.77batch/s, val_loss=0.0299]\n"
     ]
    },
    {
     "name": "stdout",
     "output_type": "stream",
     "text": [
      "Epoch 11 — train_loss: 0.0321, val_loss: 0.0434, accuracy: 90.8%\n",
      "  ↳ No improvement for 2/5 epochs.\n"
     ]
    },
    {
     "name": "stderr",
     "output_type": "stream",
     "text": [
      "Epoch 12 [train]: 100%|██████████| 132/132 [00:37<00:00,  3.48batch/s, train_loss=0.0186]\n",
      "Epoch 12 [eval] : 100%|██████████| 33/33 [00:05<00:00,  6.05batch/s, val_loss=0.0340]\n"
     ]
    },
    {
     "name": "stdout",
     "output_type": "stream",
     "text": [
      "Epoch 12 — train_loss: 0.0231, val_loss: 0.0363, accuracy: 90.5%\n",
      "  ↳ Validation loss improved; model saved.\n"
     ]
    },
    {
     "name": "stderr",
     "output_type": "stream",
     "text": [
      "Epoch 13 [train]: 100%|██████████| 132/132 [00:37<00:00,  3.54batch/s, train_loss=0.0176]\n",
      "Epoch 13 [eval] : 100%|██████████| 33/33 [00:05<00:00,  6.02batch/s, val_loss=0.0250]\n"
     ]
    },
    {
     "name": "stdout",
     "output_type": "stream",
     "text": [
      "Epoch 13 — train_loss: 0.0220, val_loss: 0.0365, accuracy: 92.7%\n",
      "  ↳ No improvement for 1/5 epochs.\n"
     ]
    },
    {
     "name": "stderr",
     "output_type": "stream",
     "text": [
      "Epoch 14 [train]: 100%|██████████| 132/132 [00:43<00:00,  3.05batch/s, train_loss=0.0138]\n",
      "Epoch 14 [eval] : 100%|██████████| 33/33 [00:07<00:00,  4.63batch/s, val_loss=0.0240]\n"
     ]
    },
    {
     "name": "stdout",
     "output_type": "stream",
     "text": [
      "Epoch 14 — train_loss: 0.0214, val_loss: 0.0320, accuracy: 90.8%\n",
      "  ↳ Validation loss improved; model saved.\n"
     ]
    },
    {
     "name": "stderr",
     "output_type": "stream",
     "text": [
      "Epoch 15 [train]: 100%|██████████| 132/132 [00:43<00:00,  3.03batch/s, train_loss=0.0152]\n",
      "Epoch 15 [eval] : 100%|██████████| 33/33 [00:05<00:00,  6.02batch/s, val_loss=0.0272]\n"
     ]
    },
    {
     "name": "stdout",
     "output_type": "stream",
     "text": [
      "Epoch 15 — train_loss: 0.0200, val_loss: 0.0380, accuracy: 91.6%\n",
      "  ↳ No improvement for 1/5 epochs.\n"
     ]
    },
    {
     "name": "stderr",
     "output_type": "stream",
     "text": [
      "Epoch 16 [train]: 100%|██████████| 132/132 [00:37<00:00,  3.54batch/s, train_loss=0.0144]\n",
      "Epoch 16 [eval] : 100%|██████████| 33/33 [00:05<00:00,  5.56batch/s, val_loss=0.0248]\n"
     ]
    },
    {
     "name": "stdout",
     "output_type": "stream",
     "text": [
      "Epoch 16 — train_loss: 0.0192, val_loss: 0.0357, accuracy: 92.0%\n",
      "  ↳ No improvement for 2/5 epochs.\n"
     ]
    },
    {
     "name": "stderr",
     "output_type": "stream",
     "text": [
      "Epoch 17 [train]: 100%|██████████| 132/132 [00:37<00:00,  3.54batch/s, train_loss=0.0131]\n",
      "Epoch 17 [eval] : 100%|██████████| 33/33 [00:05<00:00,  5.98batch/s, val_loss=0.0249]\n"
     ]
    },
    {
     "name": "stdout",
     "output_type": "stream",
     "text": [
      "Epoch 17 — train_loss: 0.0185, val_loss: 0.0359, accuracy: 91.6%\n",
      "  ↳ No improvement for 3/5 epochs.\n"
     ]
    },
    {
     "name": "stderr",
     "output_type": "stream",
     "text": [
      "Epoch 18 [train]: 100%|██████████| 132/132 [00:37<00:00,  3.55batch/s, train_loss=0.0240]\n",
      "Epoch 18 [eval] : 100%|██████████| 33/33 [00:05<00:00,  6.06batch/s, val_loss=0.0375]\n"
     ]
    },
    {
     "name": "stdout",
     "output_type": "stream",
     "text": [
      "Epoch 18 — train_loss: 0.0195, val_loss: 0.0391, accuracy: 92.4%\n",
      "  ↳ No improvement for 4/5 epochs.\n"
     ]
    },
    {
     "name": "stderr",
     "output_type": "stream",
     "text": [
      "Epoch 19 [train]: 100%|██████████| 132/132 [00:37<00:00,  3.54batch/s, train_loss=0.0169]\n",
      "Epoch 19 [eval] : 100%|██████████| 33/33 [00:05<00:00,  5.98batch/s, val_loss=0.0220]\n"
     ]
    },
    {
     "name": "stdout",
     "output_type": "stream",
     "text": [
      "Epoch 19 — train_loss: 0.0186, val_loss: 0.0353, accuracy: 92.4%\n",
      "  ↳ No improvement for 5/5 epochs.\n",
      "Early stopping triggered.\n",
      "Training complete.\n"
     ]
    }
   ],
   "source": [
    "# train_4ch_fasterrcnn_with_accuracy.py\n",
    "\n",
    "from pathlib import Path\n",
    "import torch\n",
    "from torch.utils.data import Dataset, DataLoader, random_split\n",
    "from torch.optim import AdamW\n",
    "import torchvision\n",
    "from torchvision.models.detection.faster_rcnn import FastRCNNPredictor\n",
    "import cv2\n",
    "import numpy as np\n",
    "from tqdm import tqdm  # pip install tqdm\n",
    "\n",
    "# ─── Data loading utilities ────────────────────────────────────────────────────\n",
    "\n",
    "def load_rgb(path: Path) -> np.ndarray:\n",
    "    img = cv2.imread(str(path), cv2.IMREAD_COLOR)\n",
    "    img = cv2.cvtColor(img, cv2.COLOR_BGR2RGB)\n",
    "    return img.astype(np.float32) / 255.0\n",
    "\n",
    "def load_depth(path: Path) -> np.ndarray:\n",
    "    d = cv2.imread(str(path), cv2.IMREAD_UNCHANGED)\n",
    "    d = d.astype(np.float32)\n",
    "    return d / (d.max() + 1e-6)\n",
    "\n",
    "def parse_yolo_labels(path: Path, img_shape: tuple) -> torch.Tensor:\n",
    "    H, W = img_shape\n",
    "    boxes = []\n",
    "    if path.exists():\n",
    "        with open(path, 'r') as f:\n",
    "            for line in f:\n",
    "                cls, xc, yc, w, h = map(float, line.split())\n",
    "                x0 = (xc - w/2) * W;  y0 = (yc - h/2) * H\n",
    "                x1 = (xc + w/2) * W;  y1 = (yc + h/2) * H\n",
    "                boxes.append([x0, y0, x1, y1, int(cls)])\n",
    "    if boxes:\n",
    "        return torch.tensor(boxes, dtype=torch.float32)\n",
    "    return torch.zeros((0,5), dtype=torch.float32)\n",
    "\n",
    "def collate_fn(batch):\n",
    "    return tuple(zip(*batch))\n",
    "\n",
    "\n",
    "# ─── Dataset ───────────────────────────────────────────────────────────────────\n",
    "\n",
    "class EarlyFusionDataset(Dataset):\n",
    "    def __init__(self, root: str):\n",
    "        root = Path(root)\n",
    "        self.rgb_files = sorted((root/\"rgb\").glob(\"*.jpg\"))\n",
    "\n",
    "    def __len__(self):\n",
    "        return len(self.rgb_files)\n",
    "\n",
    "    def __getitem__(self, idx):\n",
    "        rgb_path   = self.rgb_files[idx]\n",
    "        base       = rgb_path.stem\n",
    "        depth_path = rgb_path.parent.parent/\"depth\"/f\"{base}.png\"\n",
    "        label_path = rgb_path.parent.parent/\"labels\"/f\"{base}.txt\"\n",
    "\n",
    "        rgb   = load_rgb(rgb_path)                   # H×W×3\n",
    "        depth = load_depth(depth_path)[..., None]    # H×W×1\n",
    "\n",
    "        fused = np.concatenate([rgb, depth], axis=2) \n",
    "        fused = np.array(fused, dtype=np.float32)    # ensure float32\n",
    "\n",
    "        boxes   = parse_yolo_labels(label_path, rgb.shape[:2])  # N×5\n",
    "        fused_t = torch.from_numpy(fused.transpose(2,0,1))      # 4×H×W\n",
    "\n",
    "        return fused_t, {\n",
    "            \"boxes\":  boxes[:, :4],        # N×4\n",
    "            \"labels\": boxes[:, 4].long() + 1 # N\n",
    "        }\n",
    "\n",
    "\n",
    "# ─── Model factory ────────────────────────────────────────────────────────────\n",
    "\n",
    "def get_fasterrcnn_4ch(num_classes: int):\n",
    "    model = torchvision.models.detection.fasterrcnn_resnet50_fpn(pretrained=True)\n",
    "    \n",
    "    # Patch conv1 → accept 4 channels\n",
    "    conv1 = model.backbone.body.conv1\n",
    "    old_w = conv1.weight.clone()  # [64,3,7,7]\n",
    "    new_conv1 = torch.nn.Conv2d(\n",
    "        in_channels=4,\n",
    "        out_channels=conv1.out_channels,\n",
    "        kernel_size=conv1.kernel_size,\n",
    "        stride=conv1.stride,\n",
    "        padding=conv1.padding,\n",
    "        bias=False\n",
    "    )\n",
    "    with torch.no_grad():\n",
    "        new_conv1.weight[:, :3] = old_w\n",
    "        new_conv1.weight[:, 3:].zero_()\n",
    "    model.backbone.body.conv1 = new_conv1\n",
    "\n",
    "    # Swap predictor head\n",
    "    in_feats = model.roi_heads.box_predictor.cls_score.in_features\n",
    "    model.roi_heads.box_predictor = FastRCNNPredictor(in_feats, num_classes)\n",
    "\n",
    "    # Patch normalization for depth channel\n",
    "    model.transform.image_mean = [0.485, 0.456, 0.406, 0.0]\n",
    "    model.transform.image_std  = [0.229, 0.224, 0.225, 1.0]\n",
    "    return model\n",
    "\n",
    "\n",
    "# ─── Training & evaluation loops ──────────────────────────────────────────────\n",
    "\n",
    "def train_one_epoch(model, loader, optimizer, device, epoch):\n",
    "    model.train()\n",
    "    total_loss = 0.0\n",
    "    pbar = tqdm(loader, desc=f\"Epoch {epoch} [train]\", unit=\"batch\")\n",
    "    for images, targets in pbar:\n",
    "        images = [img.to(device) for img in images]\n",
    "        targets = [{k: v.to(device) for k,v in t.items()} for t in targets]\n",
    "\n",
    "        loss_dict = model(images, targets)\n",
    "        loss = sum(loss for loss in loss_dict.values())\n",
    "\n",
    "        optimizer.zero_grad()\n",
    "        loss.backward()\n",
    "        optimizer.step()\n",
    "\n",
    "        total_loss += loss.item()\n",
    "        pbar.set_postfix(train_loss=f\"{loss.item():.4f}\")\n",
    "    pbar.close()\n",
    "    return total_loss / len(loader)\n",
    "\n",
    "def evaluate_loss(model, loader, device, epoch):\n",
    "    model.train()  # keep in train mode so model returns loss dict\n",
    "    total_loss = 0.0\n",
    "    pbar = tqdm(loader, desc=f\"Epoch {epoch} [eval] \", unit=\"batch\")\n",
    "    with torch.no_grad():\n",
    "        for images, targets in pbar:\n",
    "            images = [img.to(device) for img in images]\n",
    "            targets = [{k: v.to(device) for k,v in t.items()} for t in targets]\n",
    "\n",
    "            loss_dict = model(images, targets)\n",
    "            loss = sum(loss for loss in loss_dict.values())\n",
    "            total_loss += loss.item()\n",
    "            pbar.set_postfix(val_loss=f\"{loss.item():.4f}\")\n",
    "    pbar.close()\n",
    "    return total_loss / len(loader)\n",
    "\n",
    "@torch.no_grad()\n",
    "def compute_single_obj_acc(model, loader, device, iou_thresh=0.5):\n",
    "    model.eval()\n",
    "    correct = 0\n",
    "    total   = 0\n",
    "\n",
    "    for images, targets in loader:\n",
    "        images = [img.to(device) for img in images]\n",
    "        outputs = model(images)  # list of dicts\n",
    "\n",
    "        for out, tgt in zip(outputs, targets):\n",
    "            gt_boxes = tgt[\"boxes\"]\n",
    "            # skip if no ground-truth\n",
    "            if gt_boxes.numel() == 0:\n",
    "                continue\n",
    "\n",
    "            gt_box = gt_boxes[0].to(device)\n",
    "            total += 1\n",
    "\n",
    "            # skip if no predictions\n",
    "            if out[\"boxes\"].numel() == 0:\n",
    "                continue\n",
    "\n",
    "            # pick highest-score pred\n",
    "            idx = out[\"scores\"].argmax()\n",
    "            pred_box = out[\"boxes\"][idx]\n",
    "\n",
    "            # compute IoU\n",
    "            xA = torch.max(gt_box[0], pred_box[0])\n",
    "            yA = torch.max(gt_box[1], pred_box[1])\n",
    "            xB = torch.min(gt_box[2], pred_box[2])\n",
    "            yB = torch.min(gt_box[3], pred_box[3])\n",
    "            inter = (xB - xA).clamp(min=0) * (yB - yA).clamp(min=0)\n",
    "            area_gt = (gt_box[2]-gt_box[0]) * (gt_box[3]-gt_box[1])\n",
    "            area_pr = (pred_box[2]-pred_box[0]) * (pred_box[3]-pred_box[1])\n",
    "            union = area_gt + area_pr - inter\n",
    "            iou = inter / union\n",
    "\n",
    "            if iou >= iou_thresh:\n",
    "                correct += 1\n",
    "\n",
    "    return correct / total if total > 0 else 0.0\n",
    "\n",
    "\n",
    "# ─── Main script ──────────────────────────────────────────────────────────────\n",
    "\n",
    "if __name__ == \"__main__\":\n",
    "    ROOT_DIR     = \"Processed_data\"\n",
    "    NUM_CLASSES  = 6 + 1\n",
    "    BATCH_SIZE   = 8\n",
    "    LR           = 1e-4\n",
    "    WEIGHT_DECAY = 1e-4\n",
    "    NUM_EPOCHS   = 50\n",
    "    PATIENCE     = 5\n",
    "    VAL_SPLIT    = 0.2\n",
    "    SEED         = 42\n",
    "\n",
    "    device = torch.device(\"cuda\" if torch.cuda.is_available() else \"cpu\")\n",
    "\n",
    "    # prepare dataset & loaders\n",
    "    ds = EarlyFusionDataset(ROOT_DIR)\n",
    "    total = len(ds)\n",
    "    val_n = int(total * VAL_SPLIT)\n",
    "    train_n = total - val_n\n",
    "    train_ds, val_ds = random_split(\n",
    "        ds, [train_n, val_n],\n",
    "        generator=torch.Generator().manual_seed(SEED)\n",
    "    )\n",
    "    train_loader = DataLoader(train_ds, batch_size=BATCH_SIZE, shuffle=True,\n",
    "                              num_workers=0, collate_fn=collate_fn)\n",
    "    val_loader   = DataLoader(val_ds,   batch_size=BATCH_SIZE, shuffle=False,\n",
    "                              num_workers=0, collate_fn=collate_fn)\n",
    "\n",
    "    model     = get_fasterrcnn_4ch(NUM_CLASSES).to(device)\n",
    "    optimizer = AdamW(model.parameters(), lr=LR, weight_decay=WEIGHT_DECAY)\n",
    "\n",
    "    best_val = float(\"inf\")\n",
    "    no_improve = 0\n",
    "\n",
    "    for epoch in range(1, NUM_EPOCHS+1):\n",
    "        tr_loss = train_one_epoch(model, train_loader, optimizer, device, epoch)\n",
    "        vl_loss = evaluate_loss(model, val_loader, device, epoch)\n",
    "        acc     = compute_single_obj_acc(model, val_loader, device)\n",
    "\n",
    "        print(f\"Epoch {epoch:02d} — train_loss: {tr_loss:.4f}, \"\n",
    "              f\"val_loss: {vl_loss:.4f}, accuracy: {acc*100:.1f}%\")\n",
    "\n",
    "        if vl_loss < best_val:\n",
    "            best_val = vl_loss\n",
    "            no_improve = 0\n",
    "            torch.save(model.state_dict(), \"best_fasterrcnn_4ch1.pth\")\n",
    "            print(\"  ↳ Validation loss improved; model saved.\")\n",
    "        else:\n",
    "            no_improve += 1\n",
    "            print(f\"  ↳ No improvement for {no_improve}/{PATIENCE} epochs.\")\n",
    "            if no_improve >= PATIENCE:\n",
    "                print(\"Early stopping triggered.\")\n",
    "                break\n",
    "\n",
    "    print(\"Training complete.\")\n"
   ]
  },
  {
   "cell_type": "code",
   "execution_count": 10,
   "id": "9c846174",
   "metadata": {},
   "outputs": [
    {
     "name": "stderr",
     "output_type": "stream",
     "text": [
      "Eval: 100%|██████████| 66/66 [00:04<00:00, 13.43it/s]\n"
     ]
    },
    {
     "name": "stdout",
     "output_type": "stream",
     "text": [
      "\n",
      "Overall accuracy (IoU≥0.5): 97.88%\n",
      "\n"
     ]
    },
    {
     "data": {
      "image/png": "[encoded data removed]",
      "text/plain": [
       "<Figure size 700x600 with 2 Axes>"
      ]
     },
     "metadata": {},
     "output_type": "display_data"
    }
   ],
   "source": [
    "import torch\n",
    "import numpy as np\n",
    "from sklearn.metrics import accuracy_score, confusion_matrix\n",
    "import matplotlib.pyplot as plt\n",
    "import seaborn as sns\n",
    "from tqdm import tqdm\n",
    "from torch.utils.data import DataLoader, random_split\n",
    "\n",
    "# import your training definitions\n",
    "# from train_4ch_fasterrcnn_with_accuracy import (\n",
    "#     get_fasterrcnn_4ch,\n",
    "#     EarlyFusionDataset,\n",
    "#     collate_fn\n",
    "# )\n",
    "\n",
    "def compute_iou(a, b):\n",
    "    xA = max(a[0], b[0]); yA = max(a[1], b[1])\n",
    "    xB = min(a[2], b[2]); yB = min(a[3], b[3])\n",
    "    inter = max(0, xB-xA) * max(0, yB-yA)\n",
    "    areaA = (a[2]-a[0])*(a[3]-a[1])\n",
    "    areaB = (b[2]-b[0])*(b[3]-b[1])\n",
    "    uni  = areaA + areaB - inter\n",
    "    return inter/uni if uni>0 else 0.0\n",
    "\n",
    "def evaluate(model, loader, device,\n",
    "             iou_thresh=0.5, score_thresh=0.5, label_map=None):\n",
    "    gt_list, pred_list = [], []\n",
    "    model.eval()\n",
    "    with torch.no_grad():\n",
    "        for images, targets in tqdm(loader, desc=\"Eval\"):\n",
    "            images = [img.to(device) for img in images]\n",
    "            outs   = model(images)\n",
    "            for out, tgt in zip(outs, targets):\n",
    "                gt_boxes  = tgt[\"boxes\"].cpu().numpy()\n",
    "                gt_labels = tgt[\"labels\"].cpu().numpy()\n",
    "                pb, pl, ps = (\n",
    "                    out[\"boxes\"].cpu().numpy(),\n",
    "                    out[\"labels\"].cpu().numpy(),\n",
    "                    out[\"scores\"].cpu().numpy()\n",
    "                )\n",
    "                keep = ps >= score_thresh\n",
    "                pb, pl = pb[keep], pl[keep]\n",
    "                if len(gt_boxes)==0 or len(pb)==0:\n",
    "                    continue\n",
    "                for gbox, glab in zip(gt_boxes, gt_labels):\n",
    "                    ious = np.array([compute_iou(gbox, xxx) for xxx in pb])\n",
    "                    j    = ious.argmax()\n",
    "                    if ious[j] >= iou_thresh:\n",
    "                        gt_list.append(int(glab))\n",
    "                        pred_list.append(int(pl[j]))\n",
    "\n",
    "    # accuracy\n",
    "    acc = accuracy_score(gt_list, pred_list)\n",
    "    print(f\"\\nOverall accuracy (IoU≥{iou_thresh}): {acc*100:.2f}%\\n\")\n",
    "\n",
    "    # confusion matrix\n",
    "    classes = sorted(label_map.keys())\n",
    "    names   = [label_map[c] for c in classes]\n",
    "    cm = confusion_matrix(gt_list, pred_list, labels=classes)\n",
    "\n",
    "    plt.figure(figsize=(7,6))\n",
    "    sns.heatmap(cm, annot=True, fmt=\"d\", cmap=\"Blues\",\n",
    "                xticklabels=names, yticklabels=names)\n",
    "    plt.xlabel(\"Predicted\")\n",
    "    plt.ylabel(\"Ground Truth\")\n",
    "    plt.title(\"Early-Fusion Detection Confusion Matrix\")\n",
    "    plt.tight_layout()\n",
    "    plt.show()\n",
    "\n",
    "if __name__==\"__main__\":\n",
    "    DEVICE    = torch.device(\"cuda\" if torch.cuda.is_available() else \"cpu\")\n",
    "    ROOT_DIR  = \"Processed_data\"\n",
    "    WEIGHTS   = \"best_fasterrcnn_4ch1.pth\"\n",
    "    # 1→bottle, 2→glass, …, 6→stapler\n",
    "    LABEL_MAP = {\n",
    "        1: \"bottle\",\n",
    "        2: \"glass\",\n",
    "        3: \"marker\",\n",
    "        4: \"mobile\",\n",
    "        5: \"mouse\",\n",
    "        6: \"stapler\"\n",
    "    }\n",
    "\n",
    "    # build & load\n",
    "    model = get_fasterrcnn_4ch(\n",
    "    num_classes=len(LABEL_MAP)+1,\n",
    "    weights_path=WEIGHTS,\n",
    "    device=DEVICE\n",
    ")\n",
    "\n",
    "    # val split\n",
    "    ds = EarlyFusionDataset(ROOT_DIR)\n",
    "    n_val = int(len(ds) * 0.2)\n",
    "    _, val_ds = random_split(\n",
    "        ds, [len(ds)-n_val, n_val],\n",
    "        generator=torch.Generator().manual_seed(42)\n",
    "    )\n",
    "    val_loader = DataLoader(\n",
    "        val_ds, batch_size=4, shuffle=False,\n",
    "        num_workers=0, collate_fn=collate_fn\n",
    "    )\n",
    "\n",
    "    evaluate(\n",
    "        model, val_loader, DEVICE,\n",
    "        iou_thresh=0.5, score_thresh=0.5,\n",
    "        label_map=LABEL_MAP\n",
    "    )\n"
   ]
  },
  {
   "cell_type": "code",
   "execution_count": 9,
   "id": "bc469b8e",
   "metadata": {},
   "outputs": [],
   "source": [
    "import cv2\n",
    "import torch\n",
    "import numpy as np\n",
    "import torchvision\n",
    "from torchvision.models.detection.faster_rcnn import FastRCNNPredictor\n",
    "\n",
    "# ─── EDIT THESE ────────────────────────────────────────────────────\n",
    "RGB_PATH   = \"Processed_data/rgb/20250718_122756_444339.jpg\"\n",
    "DEPTH_PATH = \"Processed_data/depth/20250718_122756_444339.png\"   # 16-bit depth map\n",
    "WEIGHTS    = \"best_fasterrcnn_4ch1.pth\"        # your trained weights\n",
    "SCORE_THR  = 0.5\n",
    "# map class IDs 0–5 to names:\n",
    "LABEL_MAP = {\n",
    "    1: \"bottle\",\n",
    "    2: \"glass\",\n",
    "    3: \"marker\",\n",
    "    4: \"mobile\",\n",
    "    5: \"mouse\",\n",
    "    6: \"stapler\"\n",
    "}\n",
    "\n",
    "DEVICE     = torch.device(\"cuda\" if torch.cuda.is_available() else \"cpu\")\n",
    "# ─────────────────────────────────────────────────────────────────\n",
    "\n",
    "# ─── Build & load the 4-channel model ─────────────────────────────\n",
    "def get_model(num_classes, weights_path):\n",
    "    model = torchvision.models.detection.fasterrcnn_resnet50_fpn(pretrained=False)\n",
    "    # patch conv1 → 4 channels\n",
    "    conv1 = model.backbone.body.conv1\n",
    "    w_old = conv1.weight.clone()\n",
    "    conv1_new = torch.nn.Conv2d(\n",
    "        4, conv1.out_channels,\n",
    "        kernel_size=conv1.kernel_size,\n",
    "        stride=conv1.stride,\n",
    "        padding=conv1.padding,\n",
    "        bias=False\n",
    "    )\n",
    "    with torch.no_grad():\n",
    "        conv1_new.weight[:, :3] = w_old\n",
    "        conv1_new.weight[:, 3:].zero_()\n",
    "    model.backbone.body.conv1 = conv1_new\n",
    "\n",
    "    # swap out the predictor for your #classes\n",
    "    in_feats = model.roi_heads.box_predictor.cls_score.in_features\n",
    "    model.roi_heads.box_predictor = FastRCNNPredictor(in_feats, num_classes)\n",
    "\n",
    "    # fix normalization (depth channel un-normalized)\n",
    "    model.transform.image_mean = [0.485,0.456,0.406,0.0]\n",
    "    model.transform.image_std  = [0.229,0.224,0.225,1.0]\n",
    "\n",
    "    ckpt = torch.load(weights_path, map_location=DEVICE)\n",
    "    model.load_state_dict(ckpt)\n",
    "    return model.to(DEVICE).eval()\n",
    "\n",
    "# ─── Inference helper ───────────────────────────────────────────────\n",
    "def draw_boxes(img, preds, label_map, thr):\n",
    "    out = img.copy()\n",
    "    for box, score, cid in zip(preds[\"boxes\"], preds[\"scores\"], preds[\"labels\"]):\n",
    "        if score < thr: continue\n",
    "        x0,y0,x1,y1 = map(int, box.tolist())\n",
    "        name = label_map.get(int(cid), str(int(cid)))\n",
    "        cv2.rectangle(out, (x0,y0), (x1,y1), (0,255,0), 2)\n",
    "        cv2.putText(out, f\"{name}:{score:.2f}\", (x0, y0-6),\n",
    "                    cv2.FONT_HERSHEY_SIMPLEX, 0.5, (0,255,0), 1)\n",
    "    return out\n",
    "\n",
    "# ─── Load, fuse, predict ─────────────────────────────────────────────\n",
    "model = get_model(len(LABEL_MAP)+1, WEIGHTS)\n",
    "\n",
    "# load RGB\n",
    "rgb = cv2.imread(RGB_PATH, cv2.IMREAD_COLOR)\n",
    "rgb = cv2.cvtColor(rgb, cv2.COLOR_BGR2RGB)\n",
    "\n",
    "# load depth and normalize to [0,1]\n",
    "depth = cv2.imread(str(DEPTH_PATH), cv2.IMREAD_UNCHANGED)\n",
    "depth = depth.astype(np.float32)\n",
    "depth = depth / (depth.max() + 1e-6)\n",
    "\n",
    "# fuse into 4-channel H×W×4 and build batch\n",
    "fused = np.concatenate([rgb.astype(np.float32)/255.0, depth[...,None]], axis=2)\n",
    "batch = torch.from_numpy(fused.transpose(2,0,1)).unsqueeze(0).to(DEVICE)\n",
    "\n",
    "# forward\n",
    "with torch.no_grad():\n",
    "    preds = model(batch)[0]\n",
    "\n",
    "# visualize\n",
    "vis = draw_boxes(rgb, preds, LABEL_MAP, SCORE_THR)\n",
    "cv2.imshow(\"Predictions\", cv2.cvtColor(vis, cv2.COLOR_RGB2BGR))\n",
    "cv2.waitKey(0)\n",
    "cv2.destroyAllWindows()\n"
   ]
  },
  {
   "cell_type": "code",
   "execution_count": 5,
   "id": "17232601",
   "metadata": {},
   "outputs": [],
   "source": [
    "# predict_realsense_cell.py\n",
    "\n",
    "import cv2\n",
    "import torch\n",
    "import numpy as np\n",
    "import pyrealsense2 as rs\n",
    "import torchvision\n",
    "from torchvision.models.detection.faster_rcnn import FastRCNNPredictor\n",
    "\n",
    "# ─── Edit these ────────────────────────────────────────────────────────────────\n",
    "WEIGHTS   = \"best_fasterrcnn_4ch1.pth\"\n",
    "SCORE_THR = 0.5\n",
    "LABEL_MAP = {\n",
    "    1: \"bottle\",\n",
    "    2: \"glass\",\n",
    "    3: \"marker\",\n",
    "    4: \"mobile\",\n",
    "    5: \"mouse\",\n",
    "    6: \"stapler\"\n",
    "}\n",
    "\n",
    "DEVICE    = torch.device(\"cuda\" if torch.cuda.is_available() else \"cpu\")\n",
    "WIDTH, HEIGHT, FPS = 640, 480, 30\n",
    "# ───────────────────────────────────────────────────────────────────────────────\n",
    "\n",
    "def get_fasterrcnn_4ch(num_classes, weights_path, device):\n",
    "    model = torchvision.models.detection.fasterrcnn_resnet50_fpn(pretrained=False)\n",
    "    conv1 = model.backbone.body.conv1\n",
    "    old_w = conv1.weight.clone()\n",
    "    new_conv = torch.nn.Conv2d(4, conv1.out_channels,\n",
    "                               kernel_size=conv1.kernel_size,\n",
    "                               stride=conv1.stride,\n",
    "                               padding=conv1.padding,\n",
    "                               bias=False)\n",
    "    with torch.no_grad():\n",
    "        new_conv.weight[:, :3] = old_w\n",
    "        new_conv.weight[:, 3:].zero_()\n",
    "    model.backbone.body.conv1 = new_conv\n",
    "\n",
    "    in_feats = model.roi_heads.box_predictor.cls_score.in_features\n",
    "    model.roi_heads.box_predictor = FastRCNNPredictor(in_feats, num_classes)\n",
    "\n",
    "    model.transform.image_mean = [0.485,0.456,0.406,0.0]\n",
    "    model.transform.image_std  = [0.229,0.224,0.225,1.0]\n",
    "\n",
    "    ckpt = torch.load(weights_path, map_location=device)\n",
    "    model.load_state_dict(ckpt)\n",
    "    return model.to(device).eval()\n",
    "\n",
    "# build model\n",
    "model = get_fasterrcnn_4ch(len(LABEL_MAP)+1, WEIGHTS, DEVICE)\n",
    "\n",
    "# configure RealSense\n",
    "pipe = rs.pipeline()\n",
    "cfg  = rs.config()\n",
    "cfg.enable_stream(rs.stream.depth, WIDTH, HEIGHT, rs.format.z16, FPS)\n",
    "cfg.enable_stream(rs.stream.color, WIDTH, HEIGHT, rs.format.bgr8, FPS)\n",
    "pipe.start(cfg)\n",
    "\n",
    "try:\n",
    "    while True:\n",
    "        frames = pipe.wait_for_frames()\n",
    "        depth_f = frames.get_depth_frame()\n",
    "        color_f = frames.get_color_frame()\n",
    "        if not depth_f or not color_f:\n",
    "            continue\n",
    "\n",
    "        depth = np.asanyarray(depth_f.get_data()).astype(np.float32)\n",
    "        color = np.asanyarray(color_f.get_data())           # BGR\n",
    "\n",
    "        # normalize and fuse\n",
    "        depth_norm = depth / (depth.max()+1e-6)\n",
    "        rgb = cv2.cvtColor(color, cv2.COLOR_BGR2RGB)\n",
    "        fused = np.concatenate([\n",
    "            rgb.astype(np.float32)/255.0,\n",
    "            depth_norm[...,None]\n",
    "        ], axis=2)\n",
    "        inp = torch.from_numpy(fused.transpose(2,0,1))\\\n",
    "                   .unsqueeze(0).to(DEVICE)\n",
    "\n",
    "        with torch.no_grad():\n",
    "            preds = model(inp)[0]\n",
    "\n",
    "        # draw on BGR frame\n",
    "        for box, score, cid in zip(preds[\"boxes\"], preds[\"scores\"], preds[\"labels\"]):\n",
    "            if score < SCORE_THR:\n",
    "                continue\n",
    "            x0,y0,x1,y1 = map(int, box.tolist())\n",
    "            name = LABEL_MAP.get(int(cid), str(int(cid)))\n",
    "            cv2.rectangle(color, (x0,y0), (x1,y1), (0,255,0), 2)\n",
    "            cv2.putText(color, f\"{name}:{score:.2f}\", (x0,y0-6),\n",
    "                        cv2.FONT_HERSHEY_SIMPLEX, 0.5, (0,255,0), 1)\n",
    "\n",
    "        cv2.imshow(\"RealSense Detection\", color)\n",
    "        if cv2.waitKey(1) & 0xFF == ord('q'):\n",
    "            break\n",
    "\n",
    "finally:\n",
    "    pipe.stop()\n",
    "    cv2.destroyAllWindows()\n"
   ]
  },
  {
   "cell_type": "code",
   "execution_count": null,
   "id": "4b0dcb24",
   "metadata": {},
   "outputs": [],
   "source": []
  }
 ],
 "metadata": {
  "kernelspec": {
   "display_name": ".venv",
   "language": "python",
   "name": "python3"
  },
  "language_info": {
   "codemirror_mode": {
    "name": "ipython",
    "version": 3
   },
   "file_extension": ".py",
   "mimetype": "text/x-python",
   "name": "python",
   "nbconvert_exporter": "python",
   "pygments_lexer": "ipython3",
   "version": "3.10.10"
  }
 },
 "nbformat": 4,
 "nbformat_minor": 5
}
