{
 "cells": [
  {
   "cell_type": "code",
   "execution_count": 1,
   "id": "3262953e",
   "metadata": {},
   "outputs": [],
   "source": [
    "# midfusion_train_complete_fixed.py\n",
    "\n",
    "import torch\n",
    "import torch.nn as nn\n",
    "from torch.utils.data import Dataset, DataLoader, random_split\n",
    "from torchvision.models import resnet50\n",
    "from torchvision.models._utils import IntermediateLayerGetter\n",
    "from torchvision.ops.feature_pyramid_network import FeaturePyramidNetwork\n",
    "from torchvision.models.detection import FasterRCNN\n",
    "from torchvision.models.detection.rpn import AnchorGenerator\n",
    "from torchvision.ops import MultiScaleRoIAlign\n",
    "from torch.optim import AdamW\n",
    "from tqdm import tqdm\n",
    "import cv2\n",
    "import numpy as np\n",
    "from pathlib import Path"
   ]
  },
  {
   "cell_type": "code",
   "execution_count": 2,
   "id": "bd59e3d9",
   "metadata": {},
   "outputs": [],
   "source": [
    "# ─── Dataset ────────────────────────────────────────────────────────────────────\n",
    "\n",
    "class RGBDDetectionDataset(Dataset):\n",
    "    def __init__(self, root: str, transforms=None):\n",
    "        root = Path(root)\n",
    "        self.rgb_paths  = sorted((root/\"rgb\").glob(\"*.*\"))\n",
    "        self.depth_dir  = root/\"depth\"\n",
    "        self.label_dir  = root/\"labels\"\n",
    "        self.transforms = transforms\n",
    "\n",
    "    def __len__(self):\n",
    "        return len(self.rgb_paths)\n",
    "\n",
    "    def __getitem__(self, idx):\n",
    "        rgb_path   = self.rgb_paths[idx]\n",
    "        stem       = rgb_path.stem\n",
    "        depth_path = self.depth_dir/f\"{stem}.png\"\n",
    "        label_path = self.label_dir/f\"{stem}.txt\"\n",
    "\n",
    "        # Load RGB\n",
    "        img = cv2.imread(str(rgb_path), cv2.IMREAD_COLOR)\n",
    "        img = cv2.cvtColor(img, cv2.COLOR_BGR2RGB).astype(np.float32)/255.0  # H×W×3\n",
    "\n",
    "        # Load Depth\n",
    "        d = cv2.imread(str(depth_path), cv2.IMREAD_UNCHANGED).astype(np.float32)\n",
    "        d /= (d.max() + 1e-6)                                               # H×W\n",
    "        d = d[..., None]                                                     # H×W×1\n",
    "\n",
    "        H, W = img.shape[:2]\n",
    "        boxes = []\n",
    "        if label_path.exists():\n",
    "            with open(label_path) as f:\n",
    "                for line in f:\n",
    "                    cls, xc, yc, w, h = map(float, line.split())\n",
    "                    x0 = (xc - w/2) * W; y0 = (yc - h/2) * H\n",
    "                    x1 = (xc + w/2) * W; y1 = (yc + h/2) * H\n",
    "                    boxes.append([x0, y0, x1, y1, int(cls)])\n",
    "        if boxes:\n",
    "            boxes = torch.tensor(boxes, dtype=torch.float32)\n",
    "        else:\n",
    "            boxes = torch.zeros((0,5), dtype=torch.float32)\n",
    "\n",
    "        rgb_t   = torch.from_numpy(img.transpose(2,0,1))   # 3×H×W\n",
    "        depth_t = torch.from_numpy(d.transpose(2,0,1))     # 1×H×W\n",
    "\n",
    "        target = {\n",
    "            \"boxes\":  boxes[:, :4],\n",
    "            \"labels\": boxes[:, 4].long() + 1 # farterrcnn alwas take the 0th index as background so plus 1 for the shifting labels\n",
    "        }\n",
    "\n",
    "        if self.transforms:\n",
    "            rgb_t, depth_t, target = self.transforms(rgb_t, depth_t, target)\n",
    "\n",
    "        return rgb_t, depth_t, target\n",
    "\n",
    "def collate_fn(batch):\n",
    "    rgbs, depths, targets = zip(*batch)\n",
    "    return list(rgbs), list(depths), list(targets)\n"
   ]
  },
  {
   "cell_type": "code",
   "execution_count": 3,
   "id": "0c314eca",
   "metadata": {},
   "outputs": [],
   "source": [
    "# ─── Mid‐Level Fusion Backbone ─────────────────────────────────────────────────\n",
    "\n",
    "class MidLevelFusionBackbone(nn.Module):\n",
    "    def __init__(self):\n",
    "        super().__init__()\n",
    "        # RGB ResNet50\n",
    "        res_r = resnet50(pretrained=True)\n",
    "        # Depth ResNet50 (single-channel)\n",
    "        res_d = resnet50(pretrained=False)\n",
    "        res_d.conv1 = nn.Conv2d(1, res_d.conv1.out_channels,\n",
    "                                kernel_size=7, stride=2, padding=3, bias=False)\n",
    "\n",
    "        return_layers = {\"layer1\":\"c2\", \"layer2\":\"c3\", \"layer3\":\"c4\", \"layer4\":\"c5\"}\n",
    "        self.rgb_extractor   = IntermediateLayerGetter(res_r, return_layers)\n",
    "        self.depth_extractor = IntermediateLayerGetter(res_d, return_layers)\n",
    "\n",
    "        # FPN for concatenated features (C2–C5)\n",
    "        in_chs = [256*2, 512*2, 1024*2, 2048*2]\n",
    "        self.fpn = FeaturePyramidNetwork(in_channels_list=in_chs, out_channels=256)\n",
    "        self.out_channels = 256\n",
    "\n",
    "    def forward(self, x):\n",
    "        # x may be a list of Tensors [4×H×W] or a single Tensor [B,4,H,W]\n",
    "        if isinstance(x, (list, tuple)):\n",
    "            x = torch.stack(x, dim=0)\n",
    "        # now x: [B,4,H,W]\n",
    "        rgb   = x[:, :3, :, :]\n",
    "        depth = x[:, 3:4, :, :]\n",
    "\n",
    "        feats_r = self.rgb_extractor(rgb)\n",
    "        feats_d = self.depth_extractor(depth)\n",
    "        fused   = {name: torch.cat([feats_r[name], feats_d[name]], dim=1)\n",
    "                   for name in feats_r}\n",
    "        return self.fpn(fused)"
   ]
  },
  {
   "cell_type": "code",
   "execution_count": 4,
   "id": "2d1c7081",
   "metadata": {},
   "outputs": [],
   "source": [
    "# ─── Model Factory ─────────────────────────────────────────────────────────────\n",
    "\n",
    "def build_midfusion_fasterrcnn(num_classes: int):\n",
    "    backbone = MidLevelFusionBackbone()\n",
    "\n",
    "    # 4 FPN levels → one size and aspect_ratios tuple per level\n",
    "    anchor_generator = AnchorGenerator(\n",
    "        sizes=((32,), (64,), (128,), (256,)),\n",
    "        aspect_ratios=((0.5,1.0,2.0),) * 4\n",
    "    )\n",
    "\n",
    "    # ROI pooling on the 4 FPN maps: c2–c5\n",
    "    roi_pool = MultiScaleRoIAlign(\n",
    "        featmap_names=['c2','c3','c4','c5'],\n",
    "        output_size=7,\n",
    "        sampling_ratio=2\n",
    "    )\n",
    "\n",
    "    model = FasterRCNN(\n",
    "        backbone,\n",
    "        num_classes=num_classes,\n",
    "        rpn_anchor_generator=anchor_generator,\n",
    "        box_roi_pool=roi_pool\n",
    "    )\n",
    "    # Normalize 4th channel (depth) with zero-mean\n",
    "    model.transform.image_mean = [0.485, 0.456, 0.406, 0.0]\n",
    "    model.transform.image_std  = [0.229, 0.224, 0.225, 1.0]\n",
    "    return model\n"
   ]
  },
  {
   "cell_type": "code",
   "execution_count": 5,
   "id": "37120b9a",
   "metadata": {},
   "outputs": [
    {
     "name": "stderr",
     "output_type": "stream",
     "text": [
      "f:\\RGBD_Fusion\\.venv\\lib\\site-packages\\torchvision\\models\\_utils.py:208: UserWarning: The parameter 'pretrained' is deprecated since 0.13 and may be removed in the future, please use 'weights' instead.\n",
      "  warnings.warn(\n",
      "f:\\RGBD_Fusion\\.venv\\lib\\site-packages\\torchvision\\models\\_utils.py:223: UserWarning: Arguments other than a weight enum or `None` for 'weights' are deprecated since 0.13 and may be removed in the future. The current behavior is equivalent to passing `weights=ResNet50_Weights.IMAGENET1K_V1`. You can also use `weights=ResNet50_Weights.DEFAULT` to get the most up-to-date weights.\n",
      "  warnings.warn(msg)\n",
      "f:\\RGBD_Fusion\\.venv\\lib\\site-packages\\torchvision\\models\\_utils.py:223: UserWarning: Arguments other than a weight enum or `None` for 'weights' are deprecated since 0.13 and may be removed in the future. The current behavior is equivalent to passing `weights=None`.\n",
      "  warnings.warn(msg)\n",
      "Epoch 1 [train]: 100%|██████████| 132/132 [01:33<00:00,  1.41batch/s, train_loss=0.2028]\n",
      "[val]  : 100%|██████████| 33/33 [00:11<00:00,  2.87batch/s, val_loss=0.2074]\n"
     ]
    },
    {
     "name": "stdout",
     "output_type": "stream",
     "text": [
      "Epoch 01: train_loss=0.3002, val_loss=0.2055\n",
      "  ↳ Validation loss improved; model saved.\n"
     ]
    },
    {
     "name": "stderr",
     "output_type": "stream",
     "text": [
      "Epoch 2 [train]: 100%|██████████| 132/132 [01:27<00:00,  1.51batch/s, train_loss=0.2076]\n",
      "[val]  : 100%|██████████| 33/33 [00:08<00:00,  3.98batch/s, val_loss=0.0969]\n"
     ]
    },
    {
     "name": "stdout",
     "output_type": "stream",
     "text": [
      "Epoch 02: train_loss=0.1405, val_loss=0.1197\n",
      "  ↳ Validation loss improved; model saved.\n"
     ]
    },
    {
     "name": "stderr",
     "output_type": "stream",
     "text": [
      "Epoch 3 [train]: 100%|██████████| 132/132 [01:27<00:00,  1.51batch/s, train_loss=0.0735]\n",
      "[val]  : 100%|██████████| 33/33 [00:07<00:00,  4.13batch/s, val_loss=0.0923]\n"
     ]
    },
    {
     "name": "stdout",
     "output_type": "stream",
     "text": [
      "Epoch 03: train_loss=0.0990, val_loss=0.0939\n",
      "  ↳ Validation loss improved; model saved.\n"
     ]
    },
    {
     "name": "stderr",
     "output_type": "stream",
     "text": [
      "Epoch 4 [train]: 100%|██████████| 132/132 [01:26<00:00,  1.53batch/s, train_loss=0.0433]\n",
      "[val]  : 100%|██████████| 33/33 [00:08<00:00,  3.70batch/s, val_loss=0.0908]\n"
     ]
    },
    {
     "name": "stdout",
     "output_type": "stream",
     "text": [
      "Epoch 04: train_loss=0.0793, val_loss=0.0868\n",
      "  ↳ Validation loss improved; model saved.\n"
     ]
    },
    {
     "name": "stderr",
     "output_type": "stream",
     "text": [
      "Epoch 5 [train]: 100%|██████████| 132/132 [01:24<00:00,  1.56batch/s, train_loss=0.0373]\n",
      "[val]  : 100%|██████████| 33/33 [00:10<00:00,  3.14batch/s, val_loss=0.0713]\n"
     ]
    },
    {
     "name": "stdout",
     "output_type": "stream",
     "text": [
      "Epoch 05: train_loss=0.0662, val_loss=0.0738\n",
      "  ↳ Validation loss improved; model saved.\n"
     ]
    },
    {
     "name": "stderr",
     "output_type": "stream",
     "text": [
      "Epoch 6 [train]: 100%|██████████| 132/132 [01:32<00:00,  1.43batch/s, train_loss=0.0564]\n",
      "[val]  : 100%|██████████| 33/33 [00:10<00:00,  3.25batch/s, val_loss=0.0642]\n"
     ]
    },
    {
     "name": "stdout",
     "output_type": "stream",
     "text": [
      "Epoch 06: train_loss=0.0586, val_loss=0.0676\n",
      "  ↳ Validation loss improved; model saved.\n"
     ]
    },
    {
     "name": "stderr",
     "output_type": "stream",
     "text": [
      "Epoch 7 [train]: 100%|██████████| 132/132 [01:27<00:00,  1.51batch/s, train_loss=0.0495]\n",
      "[val]  : 100%|██████████| 33/33 [00:08<00:00,  3.84batch/s, val_loss=0.0663]\n"
     ]
    },
    {
     "name": "stdout",
     "output_type": "stream",
     "text": [
      "Epoch 07: train_loss=0.0541, val_loss=0.0735\n",
      "  ↳ No improvement for 1/5 epochs.\n"
     ]
    },
    {
     "name": "stderr",
     "output_type": "stream",
     "text": [
      "Epoch 8 [train]: 100%|██████████| 132/132 [01:28<00:00,  1.50batch/s, train_loss=0.0348]\n",
      "[val]  : 100%|██████████| 33/33 [00:09<00:00,  3.33batch/s, val_loss=0.0590]\n"
     ]
    },
    {
     "name": "stdout",
     "output_type": "stream",
     "text": [
      "Epoch 08: train_loss=0.0494, val_loss=0.0639\n",
      "  ↳ Validation loss improved; model saved.\n"
     ]
    },
    {
     "name": "stderr",
     "output_type": "stream",
     "text": [
      "Epoch 9 [train]: 100%|██████████| 132/132 [01:28<00:00,  1.49batch/s, train_loss=0.0330]\n",
      "[val]  : 100%|██████████| 33/33 [00:07<00:00,  4.15batch/s, val_loss=0.0425]\n"
     ]
    },
    {
     "name": "stdout",
     "output_type": "stream",
     "text": [
      "Epoch 09: train_loss=0.0472, val_loss=0.0606\n",
      "  ↳ Validation loss improved; model saved.\n"
     ]
    },
    {
     "name": "stderr",
     "output_type": "stream",
     "text": [
      "Epoch 10 [train]: 100%|██████████| 132/132 [01:20<00:00,  1.64batch/s, train_loss=0.0310]\n",
      "[val]  : 100%|██████████| 33/33 [00:08<00:00,  4.11batch/s, val_loss=0.0529]\n"
     ]
    },
    {
     "name": "stdout",
     "output_type": "stream",
     "text": [
      "Epoch 10: train_loss=0.0438, val_loss=0.0563\n",
      "  ↳ Validation loss improved; model saved.\n"
     ]
    },
    {
     "name": "stderr",
     "output_type": "stream",
     "text": [
      "Epoch 11 [train]: 100%|██████████| 132/132 [01:27<00:00,  1.51batch/s, train_loss=0.0458]\n",
      "[val]  : 100%|██████████| 33/33 [00:08<00:00,  3.74batch/s, val_loss=0.0452]\n"
     ]
    },
    {
     "name": "stdout",
     "output_type": "stream",
     "text": [
      "Epoch 11: train_loss=0.0415, val_loss=0.0580\n",
      "  ↳ No improvement for 1/5 epochs.\n"
     ]
    },
    {
     "name": "stderr",
     "output_type": "stream",
     "text": [
      "Epoch 12 [train]: 100%|██████████| 132/132 [01:21<00:00,  1.62batch/s, train_loss=0.0191]\n",
      "[val]  : 100%|██████████| 33/33 [00:08<00:00,  3.71batch/s, val_loss=0.0417]\n"
     ]
    },
    {
     "name": "stdout",
     "output_type": "stream",
     "text": [
      "Epoch 12: train_loss=0.0416, val_loss=0.0531\n",
      "  ↳ Validation loss improved; model saved.\n"
     ]
    },
    {
     "name": "stderr",
     "output_type": "stream",
     "text": [
      "Epoch 13 [train]: 100%|██████████| 132/132 [01:27<00:00,  1.51batch/s, train_loss=0.0245]\n",
      "[val]  : 100%|██████████| 33/33 [00:09<00:00,  3.46batch/s, val_loss=0.0348]\n"
     ]
    },
    {
     "name": "stdout",
     "output_type": "stream",
     "text": [
      "Epoch 13: train_loss=0.0403, val_loss=0.0564\n",
      "  ↳ No improvement for 1/5 epochs.\n"
     ]
    },
    {
     "name": "stderr",
     "output_type": "stream",
     "text": [
      "Epoch 14 [train]: 100%|██████████| 132/132 [01:25<00:00,  1.55batch/s, train_loss=0.0515]\n",
      "[val]  : 100%|██████████| 33/33 [00:07<00:00,  4.17batch/s, val_loss=0.0335]\n"
     ]
    },
    {
     "name": "stdout",
     "output_type": "stream",
     "text": [
      "Epoch 14: train_loss=0.0344, val_loss=0.0509\n",
      "  ↳ Validation loss improved; model saved.\n"
     ]
    },
    {
     "name": "stderr",
     "output_type": "stream",
     "text": [
      "Epoch 15 [train]: 100%|██████████| 132/132 [01:23<00:00,  1.59batch/s, train_loss=0.0505]\n",
      "[val]  : 100%|██████████| 33/33 [00:08<00:00,  3.93batch/s, val_loss=0.0467]\n"
     ]
    },
    {
     "name": "stdout",
     "output_type": "stream",
     "text": [
      "Epoch 15: train_loss=0.0310, val_loss=0.0525\n",
      "  ↳ No improvement for 1/5 epochs.\n"
     ]
    },
    {
     "name": "stderr",
     "output_type": "stream",
     "text": [
      "Epoch 16 [train]: 100%|██████████| 132/132 [01:28<00:00,  1.50batch/s, train_loss=0.0284]\n",
      "[val]  : 100%|██████████| 33/33 [00:11<00:00,  2.89batch/s, val_loss=0.0323]\n"
     ]
    },
    {
     "name": "stdout",
     "output_type": "stream",
     "text": [
      "Epoch 16: train_loss=0.0306, val_loss=0.0500\n",
      "  ↳ Validation loss improved; model saved.\n"
     ]
    },
    {
     "name": "stderr",
     "output_type": "stream",
     "text": [
      "Epoch 17 [train]: 100%|██████████| 132/132 [01:23<00:00,  1.57batch/s, train_loss=0.0358]\n",
      "[val]  : 100%|██████████| 33/33 [00:08<00:00,  4.09batch/s, val_loss=0.0314]\n"
     ]
    },
    {
     "name": "stdout",
     "output_type": "stream",
     "text": [
      "Epoch 17: train_loss=0.0312, val_loss=0.0487\n",
      "  ↳ Validation loss improved; model saved.\n"
     ]
    },
    {
     "name": "stderr",
     "output_type": "stream",
     "text": [
      "Epoch 18 [train]: 100%|██████████| 132/132 [01:28<00:00,  1.49batch/s, train_loss=0.0269]\n",
      "[val]  : 100%|██████████| 33/33 [00:08<00:00,  3.67batch/s, val_loss=0.0467]\n"
     ]
    },
    {
     "name": "stdout",
     "output_type": "stream",
     "text": [
      "Epoch 18: train_loss=0.0295, val_loss=0.0536\n",
      "  ↳ No improvement for 1/5 epochs.\n"
     ]
    },
    {
     "name": "stderr",
     "output_type": "stream",
     "text": [
      "Epoch 19 [train]: 100%|██████████| 132/132 [01:21<00:00,  1.61batch/s, train_loss=0.0169]\n",
      "[val]  : 100%|██████████| 33/33 [00:08<00:00,  3.87batch/s, val_loss=0.0352]\n"
     ]
    },
    {
     "name": "stdout",
     "output_type": "stream",
     "text": [
      "Epoch 19: train_loss=0.0283, val_loss=0.0459\n",
      "  ↳ Validation loss improved; model saved.\n"
     ]
    },
    {
     "name": "stderr",
     "output_type": "stream",
     "text": [
      "Epoch 20 [train]: 100%|██████████| 132/132 [01:21<00:00,  1.61batch/s, train_loss=0.0398]\n",
      "[val]  : 100%|██████████| 33/33 [00:09<00:00,  3.58batch/s, val_loss=0.0406]"
     ]
    },
    {
     "name": "stdout",
     "output_type": "stream",
     "text": [
      "Epoch 20: train_loss=0.0339, val_loss=0.0562\n",
      "  ↳ No improvement for 1/5 epochs.\n",
      "Training complete. Best val_loss: 0.0459\n"
     ]
    },
    {
     "name": "stderr",
     "output_type": "stream",
     "text": [
      "\n"
     ]
    }
   ],
   "source": [
    "# ─── Training & Early Stopping ─────────────────────────────────────────────────\n",
    "\n",
    "def train_one_epoch(model, loader, optimizer, device, epoch):\n",
    "    model.train()\n",
    "    pbar = tqdm(loader, desc=f\"Epoch {epoch} [train]\", unit=\"batch\")\n",
    "    total = 0.0\n",
    "    for rgbs, depths, targets in pbar:\n",
    "        inputs = [torch.cat([r, d], dim=0).to(device)\n",
    "                  for r, d in zip(rgbs, depths)]\n",
    "        tgts = [{k: v.to(device) for k, v in t.items()} for t in targets]\n",
    "\n",
    "        loss_dict = model(inputs, tgts)\n",
    "        loss = sum(loss_dict.values())\n",
    "\n",
    "        optimizer.zero_grad()\n",
    "        loss.backward()\n",
    "        optimizer.step()\n",
    "\n",
    "        total += loss.item()\n",
    "        pbar.set_postfix(train_loss=f\"{loss.item():.4f}\")\n",
    "    pbar.close()\n",
    "    return total / len(loader)\n",
    "\n",
    "@torch.no_grad()\n",
    "def eval_loss(model, loader, device):\n",
    "    # keep train() so loss_dict is returned\n",
    "    model.train()\n",
    "    pbar = tqdm(loader, desc=\"[val]  \", unit=\"batch\")\n",
    "    total = 0.0\n",
    "    for rgbs, depths, targets in pbar:\n",
    "        inputs = [torch.cat([r, d], dim=0).to(device)\n",
    "                  for r, d in zip(rgbs, depths)]\n",
    "        tgts   = [{k: v.to(device) for k, v in t.items()} for t in targets]\n",
    "\n",
    "        loss = sum(model(inputs, tgts).values()).item()\n",
    "        total += loss\n",
    "        pbar.set_postfix(val_loss=f\"{loss:.4f}\")\n",
    "    pbar.close()\n",
    "    return total / len(loader)\n",
    "\n",
    "\n",
    "if __name__ == \"__main__\":\n",
    "    # ── Hyperparameters ─────────────────────────────────────────────────────────\n",
    "    ROOT_DIR    = \"Processed_data\"\n",
    "    NUM_CLASSES = 6 + 1\n",
    "    BATCH_SIZE  = 8\n",
    "    LR          = 1e-4\n",
    "    WD          = 1e-4\n",
    "    MAX_EPOCHS  = 20\n",
    "    PATIENCE    = 5\n",
    "    VAL_SPLIT   = 0.2\n",
    "    SEED        = 42\n",
    "    DEVICE      = torch.device(\"cuda\" if torch.cuda.is_available() else \"cpu\")\n",
    "    # ──────────────────────────────────────────────────────────────────────────────\n",
    "\n",
    "    ds    = RGBDDetectionDataset(ROOT_DIR)\n",
    "    n_val = int(len(ds) * VAL_SPLIT)\n",
    "    train_ds, val_ds = random_split(\n",
    "        ds, [len(ds) - n_val, n_val],\n",
    "        generator=torch.Generator().manual_seed(SEED)\n",
    "    )\n",
    "    train_loader = DataLoader(train_ds, batch_size=BATCH_SIZE, shuffle=True,\n",
    "                              num_workers=0, collate_fn=collate_fn)\n",
    "    val_loader   = DataLoader(val_ds,   batch_size=BATCH_SIZE, shuffle=False,\n",
    "                              num_workers=0, collate_fn=collate_fn)\n",
    "\n",
    "    model     = build_midfusion_fasterrcnn(NUM_CLASSES).to(DEVICE)\n",
    "    optimizer = AdamW(model.parameters(), lr=LR, weight_decay=WD)\n",
    "\n",
    "    best_val_loss     = float(\"inf\")\n",
    "    epochs_no_improve = 0\n",
    "\n",
    "    for epoch in range(1, MAX_EPOCHS + 1):\n",
    "        tr_loss = train_one_epoch(model, train_loader, optimizer, DEVICE, epoch)\n",
    "        vl_loss = eval_loss(model, val_loader, DEVICE)\n",
    "\n",
    "        print(f\"Epoch {epoch:02d}: train_loss={tr_loss:.4f}, val_loss={vl_loss:.4f}\")\n",
    "\n",
    "        if vl_loss < best_val_loss:\n",
    "            best_val_loss     = vl_loss\n",
    "            epochs_no_improve = 0\n",
    "            torch.save(model.state_dict(), \"midfusion_best1.pth\")\n",
    "            print(\"  ↳ Validation loss improved; model saved.\")\n",
    "        else:\n",
    "            epochs_no_improve += 1\n",
    "            print(f\"  ↳ No improvement for {epochs_no_improve}/{PATIENCE} epochs.\")\n",
    "            if epochs_no_improve >= PATIENCE:\n",
    "                print(f\"Early stopping triggered at epoch {epoch}.\")\n",
    "                break\n",
    "\n",
    "    print(f\"Training complete. Best val_loss: {best_val_loss:.4f}\")\n"
   ]
  },
  {
   "cell_type": "code",
   "execution_count": 6,
   "id": "e074f698",
   "metadata": {},
   "outputs": [
    {
     "name": "stderr",
     "output_type": "stream",
     "text": [
      "f:\\RGBD_Fusion\\.venv\\lib\\site-packages\\torchvision\\models\\_utils.py:208: UserWarning: The parameter 'pretrained' is deprecated since 0.13 and may be removed in the future, please use 'weights' instead.\n",
      "  warnings.warn(\n",
      "f:\\RGBD_Fusion\\.venv\\lib\\site-packages\\torchvision\\models\\_utils.py:223: UserWarning: Arguments other than a weight enum or `None` for 'weights' are deprecated since 0.13 and may be removed in the future. The current behavior is equivalent to passing `weights=ResNet50_Weights.IMAGENET1K_V1`. You can also use `weights=ResNet50_Weights.DEFAULT` to get the most up-to-date weights.\n",
      "  warnings.warn(msg)\n",
      "f:\\RGBD_Fusion\\.venv\\lib\\site-packages\\torchvision\\models\\_utils.py:223: UserWarning: Arguments other than a weight enum or `None` for 'weights' are deprecated since 0.13 and may be removed in the future. The current behavior is equivalent to passing `weights=None`.\n",
      "  warnings.warn(msg)\n",
      "Evaluating: 100%|██████████| 66/66 [01:17<00:00,  1.17s/it]"
     ]
    },
    {
     "name": "stdout",
     "output_type": "stream",
     "text": [
      "\n",
      "Detection accuracy (IoU≥0.5): 97.88%\n",
      "\n"
     ]
    },
    {
     "name": "stderr",
     "output_type": "stream",
     "text": [
      "\n"
     ]
    },
    {
     "data": {
      "image/png": "[encoded data removed]",
      "text/plain": [
       "<Figure size 800x600 with 2 Axes>"
      ]
     },
     "metadata": {},
     "output_type": "display_data"
    },
    {
     "name": "stdout",
     "output_type": "stream",
     "text": [
      "Overall detection accuracy: 97.88%\n"
     ]
    }
   ],
   "source": [
    "import torch\n",
    "import numpy as np\n",
    "import cv2\n",
    "from pathlib import Path\n",
    "from tqdm import tqdm\n",
    "from sklearn.metrics import accuracy_score, confusion_matrix\n",
    "import matplotlib.pyplot as plt\n",
    "import seaborn as sns\n",
    "\n",
    "# from midfusion_train_complete_fixed import build_midfusion_fasterrcnn, RGBDDetectionDataset, collate_fn\n",
    "from torch.utils.data import DataLoader, random_split\n",
    "\n",
    "def compute_iou(boxA, boxB):\n",
    "    xA = max(boxA[0], boxB[0])\n",
    "    yA = max(boxA[1], boxB[1])\n",
    "    xB = min(boxA[2], boxB[2])\n",
    "    yB = min(boxA[3], boxB[3])\n",
    "    inter = max(0, xB - xA) * max(0, yB - yA)\n",
    "    areaA = (boxA[2]-boxA[0])*(boxA[3]-boxA[1])\n",
    "    areaB = (boxB[2]-boxB[0])*(boxB[3]-boxB[1])\n",
    "    union = areaA + areaB - inter\n",
    "    return inter / union if union>0 else 0\n",
    "\n",
    "def evaluate(model, loader, device,\n",
    "             iou_thresh=0.5, score_thresh=0.5, label_map=None):\n",
    "    gt_list, pred_list = [], []\n",
    "\n",
    "    model.eval()\n",
    "    with torch.no_grad():\n",
    "        for rgbs, depths, targets in tqdm(loader, desc=\"Evaluating\"):\n",
    "            inputs = [torch.cat([r,d], dim=0).to(device)\n",
    "                      for r,d in zip(rgbs, depths)]\n",
    "            outputs = model(inputs)\n",
    "\n",
    "            for out, tgt in zip(outputs, targets):\n",
    "                gt_boxes  = tgt[\"boxes\"].cpu().numpy()\n",
    "                gt_labels = tgt[\"labels\"].cpu().numpy()\n",
    "\n",
    "                pred_boxes  = out[\"boxes\"].cpu().numpy()\n",
    "                pred_labels = out[\"labels\"].cpu().numpy()\n",
    "                pred_scores = out[\"scores\"].cpu().numpy()\n",
    "\n",
    "                keep = pred_scores >= score_thresh\n",
    "                pred_boxes  = pred_boxes[keep]\n",
    "                pred_labels = pred_labels[keep]\n",
    "\n",
    "                if len(gt_boxes)==0 or len(pred_boxes)==0:\n",
    "                    continue\n",
    "\n",
    "                for gbox, glab in zip(gt_boxes, gt_labels):\n",
    "                    ious = np.array([compute_iou(gbox, pbox)\n",
    "                                     for pbox in pred_boxes])\n",
    "                    best_j = ious.argmax()\n",
    "                    if ious[best_j] >= iou_thresh:\n",
    "                        gt_list.append(int(glab))\n",
    "                        pred_list.append(int(pred_labels[best_j]))\n",
    "\n",
    "    # overall accuracy\n",
    "    acc = accuracy_score(gt_list, pred_list)\n",
    "    print(f\"\\nDetection accuracy (IoU≥{iou_thresh}): {acc*100:.2f}%\\n\")\n",
    "\n",
    "    # confusion matrix\n",
    "    classes = list(label_map.keys())\n",
    "    names   = [label_map[c] for c in classes]\n",
    "    cm = confusion_matrix(gt_list, pred_list, labels=classes)\n",
    "\n",
    "    plt.figure(figsize=(8,6))\n",
    "    sns.heatmap(cm, annot=True, fmt=\"d\", cmap=\"Blues\",\n",
    "                xticklabels=names, yticklabels=names)\n",
    "    plt.xlabel(\"Predicted\")\n",
    "    plt.ylabel(\"Ground Truth\")\n",
    "    plt.title(\"Detection Confusion Matrix\")\n",
    "    plt.tight_layout()\n",
    "    plt.show()\n",
    "\n",
    "    # print accuracy again after the plot\n",
    "    print(f\"Overall detection accuracy: {acc*100:.2f}%\")\n",
    "\n",
    "if __name__ == \"__main__\":\n",
    "    DEVICE    = torch.device(\"cuda\" if torch.cuda.is_available() else \"cpu\")\n",
    "    ROOT_DIR  = \"Processed_data\"\n",
    "    WEIGHTS   = \"midfusion_best1.pth\"\n",
    "    LABEL_MAP = {\n",
    "        1: \"bottle\",\n",
    "        2: \"glass\",\n",
    "        3: \"marker\",\n",
    "        4: \"mobile\",\n",
    "        5: \"mouse\",\n",
    "        6: \"stapler\"\n",
    "    }\n",
    "\n",
    "    # build model & load weights\n",
    "    model = build_midfusion_fasterrcnn(num_classes=len(LABEL_MAP)+1)\n",
    "    model.load_state_dict(torch.load(WEIGHTS, map_location=DEVICE))\n",
    "    model.to(DEVICE)\n",
    "\n",
    "    # val loader\n",
    "    ds = RGBDDetectionDataset(ROOT_DIR)\n",
    "    n_val = int(len(ds) * 0.2)\n",
    "    _, val_ds = random_split(\n",
    "        ds, [len(ds)-n_val, n_val],\n",
    "        generator=torch.Generator().manual_seed(42)\n",
    "    )\n",
    "    val_loader = DataLoader(\n",
    "        val_ds, batch_size=4, shuffle=False,\n",
    "        num_workers=0, collate_fn=collate_fn\n",
    "    )\n",
    "\n",
    "    evaluate(model, val_loader, DEVICE,\n",
    "             iou_thresh=0.5, score_thresh=0.5, label_map=LABEL_MAP)\n"
   ]
  },
  {
   "cell_type": "code",
   "execution_count": 7,
   "id": "2467187d",
   "metadata": {},
   "outputs": [
    {
     "name": "stderr",
     "output_type": "stream",
     "text": [
      "f:\\RGBD_Fusion\\.venv\\lib\\site-packages\\torchvision\\models\\_utils.py:208: UserWarning: The parameter 'pretrained' is deprecated since 0.13 and may be removed in the future, please use 'weights' instead.\n",
      "  warnings.warn(\n",
      "f:\\RGBD_Fusion\\.venv\\lib\\site-packages\\torchvision\\models\\_utils.py:223: UserWarning: Arguments other than a weight enum or `None` for 'weights' are deprecated since 0.13 and may be removed in the future. The current behavior is equivalent to passing `weights=ResNet50_Weights.IMAGENET1K_V1`. You can also use `weights=ResNet50_Weights.DEFAULT` to get the most up-to-date weights.\n",
      "  warnings.warn(msg)\n",
      "f:\\RGBD_Fusion\\.venv\\lib\\site-packages\\torchvision\\models\\_utils.py:223: UserWarning: Arguments other than a weight enum or `None` for 'weights' are deprecated since 0.13 and may be removed in the future. The current behavior is equivalent to passing `weights=None`.\n",
      "  warnings.warn(msg)\n"
     ]
    }
   ],
   "source": [
    "# offline_inference.py\n",
    "\n",
    "import torch\n",
    "import torch.nn as nn\n",
    "import torchvision\n",
    "from torchvision.models.detection.faster_rcnn import FastRCNNPredictor\n",
    "from torchvision.models import resnet50\n",
    "from torchvision.models._utils import IntermediateLayerGetter\n",
    "from torchvision.ops.feature_pyramid_network import FeaturePyramidNetwork\n",
    "import cv2\n",
    "import numpy as np\n",
    "from pathlib import Path\n",
    "import torch\n",
    "import cv2\n",
    "import numpy as np\n",
    "# from midfusion_train_complete_fixed import build_midfusion_fasterrcnn, RGBDDetectionDataset, collate_fn\n",
    "from pathlib import Path\n",
    "\n",
    "# ─── EDIT THESE ────────────────────────────────────────────────────────────────\n",
    "RGB_PATH   = \"Processed_data/rgb/20250718_122755_172682.jpg\"\n",
    "DEPTH_PATH = \"Processed_data/depth/20250718_122755_172682.png\"\n",
    "WEIGHTS    = \"midfusion_best1.pth\" \n",
    "SCORE_THR  = 0.5\n",
    "LABEL_MAP  = {1:\"bottle\",2:\"glass\",3:\"marker\",4:\"mobile\",5:\"mouse\",6:\"stapler\"}\n",
    "DEVICE     = torch.device(\"cuda\" if torch.cuda.is_available() else \"cpu\")\n",
    "# ───────────────────────────────────────────────────────────────────────────────\n",
    "\n",
    "# Build model & load weights\n",
    "model = build_midfusion_fasterrcnn(num_classes=len(LABEL_MAP)+1)\n",
    "model.load_state_dict(torch.load(WEIGHTS, map_location=DEVICE))\n",
    "model.to(DEVICE).eval()\n",
    "\n",
    "# Load & fuse\n",
    "rgb   = cv2.imread(RGB_PATH, cv2.IMREAD_COLOR)\n",
    "rgb   = cv2.cvtColor(rgb, cv2.COLOR_BGR2RGB).astype(np.float32)/255.0\n",
    "depth = cv2.imread(DEPTH_PATH, cv2.IMREAD_UNCHANGED).astype(np.float32)\n",
    "depth = depth / (depth.max() + 1e-6)\n",
    "fused = np.concatenate([rgb, depth[...,None]], axis=2)  # H×W×4\n",
    "\n",
    "# To tensor and infer\n",
    "inp = torch.from_numpy(fused.transpose(2,0,1)).to(DEVICE)\n",
    "with torch.no_grad():\n",
    "    pred = model([inp])[0]\n",
    "\n",
    "# Draw results\n",
    "vis = rgb.copy()\n",
    "for box, score, cid in zip(pred[\"boxes\"], pred[\"scores\"], pred[\"labels\"]):\n",
    "    if score < SCORE_THR: continue\n",
    "    x0,y0,x1,y1 = map(int, box.tolist())\n",
    "    name = LABEL_MAP[int(cid)]\n",
    "    cv2.rectangle(vis, (x0,y0), (x1,y1), (0,255,0), 2)\n",
    "    cv2.putText(vis, f\"{name}:{score:.2f}\", (x0,y0-6),\n",
    "                cv2.FONT_HERSHEY_SIMPLEX, 0.5, (0,255,0), 1)\n",
    "\n",
    "cv2.imshow(\"Inference\", cv2.cvtColor(vis, cv2.COLOR_RGB2BGR))\n",
    "cv2.waitKey(0)\n",
    "cv2.destroyAllWindows()\n"
   ]
  },
  {
   "cell_type": "code",
   "execution_count": 9,
   "id": "36a27414",
   "metadata": {},
   "outputs": [],
   "source": [
    "# realsense_inference_fixed.py\n",
    "\n",
    "import torch\n",
    "import torch.nn as nn\n",
    "import cv2\n",
    "import numpy as np\n",
    "import pyrealsense2 as rs\n",
    "\n",
    "# fix imports\n",
    "from torchvision.models.detection.rpn import AnchorGenerator\n",
    "from torchvision.ops import MultiScaleRoIAlign\n",
    "\n",
    "# import your model factory\n",
    "# from midfusion_train_complete_fixed import build_midfusion_fasterrcnn\n",
    "\n",
    "# ─── EDIT THESE ────────────────────────────────────────────────────────────────\n",
    "WEIGHTS    = \"midfusion_best1.pth\"\n",
    "SCORE_THR  = 0.5\n",
    "LABEL_MAP  = {1:\"bottle\",2:\"glass\",3:\"marker\",4:\"mobile\",5:\"mouse\",6:\"stapler\"}\n",
    "DEVICE     = torch.device(\"cuda\" if torch.cuda.is_available() else \"cpu\")\n",
    "WIDTH,HEIGHT,FPS = 640,480,30\n",
    "# ───────────────────────────────────────────────────────────────────────────────\n",
    "\n",
    "# Build & load model\n",
    "model = build_midfusion_fasterrcnn(num_classes=len(LABEL_MAP)+1)\n",
    "state = torch.load(WEIGHTS, map_location=DEVICE)\n",
    "model.load_state_dict(state)\n",
    "model.to(DEVICE).eval()\n",
    "\n",
    "# RealSense setup\n",
    "pipe = rs.pipeline()\n",
    "cfg  = rs.config()\n",
    "cfg.enable_stream(rs.stream.depth, WIDTH, HEIGHT, rs.format.z16, FPS)\n",
    "cfg.enable_stream(rs.stream.color, WIDTH, HEIGHT, rs.format.bgr8, FPS)\n",
    "pipe.start(cfg)\n",
    "\n",
    "try:\n",
    "    while True:\n",
    "        frames = pipe.wait_for_frames()\n",
    "        d = frames.get_depth_frame(); c = frames.get_color_frame()\n",
    "        if not d or not c: \n",
    "            continue\n",
    "\n",
    "        # depth → normalized H×W\n",
    "        depth = np.asanyarray(d.get_data()).astype(np.float32)\n",
    "        depth = depth / (depth.max() + 1e-6)\n",
    "        # color → BGR H×W×3\n",
    "        color = np.asanyarray(c.get_data())\n",
    "\n",
    "        # fuse into H×W×4 RGB+D\n",
    "        rgb   = cv2.cvtColor(color, cv2.COLOR_BGR2RGB).astype(np.float32)/255.0\n",
    "        fused = np.concatenate([rgb, depth[...,None]], axis=2)\n",
    "\n",
    "        # to 4×H×W tensor\n",
    "        inp = torch.from_numpy(fused.transpose(2,0,1)).unsqueeze(0).to(DEVICE)\n",
    "\n",
    "        # inference\n",
    "        with torch.no_grad():\n",
    "            pred = model(inp)[0]\n",
    "\n",
    "        # draw\n",
    "        for box, score, cid in zip(pred[\"boxes\"], pred[\"scores\"], pred[\"labels\"]):\n",
    "            if score < SCORE_THR: \n",
    "                continue\n",
    "            x0,y0,x1,y1 = map(int, box.tolist())\n",
    "            name = LABEL_MAP[int(cid)]\n",
    "            cv2.rectangle(color, (x0,y0), (x1,y1), (0,255,0), 2)\n",
    "            cv2.putText(color, f\"{name}:{score:.2f}\", (x0,y0-6),\n",
    "                        cv2.FONT_HERSHEY_SIMPLEX, 0.5, (0,255,0), 1)\n",
    "\n",
    "        cv2.imshow(\"RealSense Live Detection\", color)\n",
    "        if cv2.waitKey(1) & 0xFF == ord('q'):\n",
    "            break\n",
    "\n",
    "finally:\n",
    "    pipe.stop()\n",
    "    cv2.destroyAllWindows()\n"
   ]
  },
  {
   "cell_type": "code",
   "execution_count": null,
   "id": "85cd278d",
   "metadata": {},
   "outputs": [],
   "source": []
  }
 ],
 "metadata": {
  "kernelspec": {
   "display_name": ".venv",
   "language": "python",
   "name": "python3"
  },
  "language_info": {
   "codemirror_mode": {
    "name": "ipython",
    "version": 3
   },
   "file_extension": ".py",
   "mimetype": "text/x-python",
   "name": "python",
   "nbconvert_exporter": "python",
   "pygments_lexer": "ipython3",
   "version": "3.10.10"
  }
 },
 "nbformat": 4,
 "nbformat_minor": 5
}
